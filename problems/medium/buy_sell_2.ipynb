{
 "cells": [
  {
   "cell_type": "markdown",
   "metadata": {},
   "source": [
    "You are given an integer array prices where prices[i] is the price of a given stock on the ith day.\n",
    "\n",
    "On each day, you may decide to buy and/or sell the stock. You can only hold at most one share of the stock at any time. However, you can buy it then immediately sell it on the same day.\n",
    "\n",
    "Find and return the maximum profit you can achieve.\n",
    "\n",
    "Example 1:\n",
    "\n",
    "Input: `prices = [7,1,5,3,6,4]`\n",
    "Output: 7\n",
    "Explanation: Buy on day 2 (price = 1) and sell on day 3 (price = 5), profit = 5-1 = 4.\n",
    "Then buy on day 4 (price = 3) and sell on day 5 (price = 6), profit = 6-3 = 3.\n",
    "Total profit is 4 + 3 = 7.\n",
    "Example 2:\n",
    "\n",
    "Input: `prices = [1,2,3,4,5]`\n",
    "Output: 4\n",
    "Explanation: Buy on day 1 (price = 1) and sell on day 5 (price = 5), profit = 5-1 = 4.\n",
    "Total profit is 4.\n",
    "Example 3:\n",
    "\n",
    "Input: `prices = [7,6,4,3,1]`\n",
    "Output: 0\n",
    "Explanation: There is no way to make a positive profit, so we never buy the stock to achieve the maximum profit of 0.\n",
    " \n",
    "\n",
    "Constraints:\n",
    "\n",
    "`1 <= prices.length <= 3 * 104`\n",
    "`0 <= prices[i] <= 104`"
   ]
  },
  {
   "cell_type": "code",
   "execution_count": 28,
   "metadata": {},
   "outputs": [
    {
     "name": "stdout",
     "output_type": "stream",
     "text": [
      "7546656\n"
     ]
    }
   ],
   "source": [
    "# First Strategy\n",
    "# STATUS: SUCCESS!\n",
    "\n",
    "from data.prices import prices as large_price_sample\n",
    "\n",
    "class Solution:\n",
    "    def maxProfit(self, prices):\n",
    "        buy = prices[0] # low\n",
    "        profit = 0\n",
    "        \n",
    "        for i in range(1, len(prices)):\n",
    "            if prices[i] < buy:\n",
    "                # If today price is lower than prev, buy today\n",
    "                buy = prices[i]\n",
    "            elif prices[i] - buy > 0:\n",
    "                # Check if selling today would yield a profit greater than 0\n",
    "                sell = prices[i] # high\n",
    "                profit += sell - buy\n",
    "                buy = prices[i] # Set buy to today\n",
    "    \n",
    "        return profit\n",
    "    \n",
    "\n",
    "samples = [\n",
    "    # [7,6,4,3,1], #=> 0\n",
    "    # [7,1,5,3,6,4], # => 7\n",
    "    # [1,2,3,4,5], # => 4\n",
    "    # [1],\n",
    "    # [2,1,2,1,0,1,2],\n",
    "    # [2,4,1], #=> 2\n",
    "    # [3,2,6,5,0,3],\n",
    "    # large_price_sample,\n",
    "]\n",
    "\n",
    "for sample in samples:\n",
    "    solution = Solution()\n",
    "    result = solution.maxProfit(sample)\n",
    "    print(result)"
   ]
  },
  {
   "cell_type": "code",
   "execution_count": null,
   "metadata": {},
   "outputs": [],
   "source": [
    "# Best Solution\n",
    "\n",
    "class Solution(object):\n",
    "    def maxProfit(self, prices):\n",
    "        \"\"\"\n",
    "        :type prices: List[int]\n",
    "        :rtype: int\n",
    "        \"\"\"\n",
    "        max = 0\n",
    "        start = prices[0]\n",
    "        len1 = len(prices)\n",
    "        for i in range(0 , len1):\n",
    "            if start < prices[i]: \n",
    "                max += prices[i] - start\n",
    "            start = prices[i]\n",
    "        return max"
   ]
  }
 ],
 "metadata": {
  "kernelspec": {
   "display_name": "leetcode-wb",
   "language": "python",
   "name": "python3"
  },
  "language_info": {
   "codemirror_mode": {
    "name": "ipython",
    "version": 3
   },
   "file_extension": ".py",
   "mimetype": "text/x-python",
   "name": "python",
   "nbconvert_exporter": "python",
   "pygments_lexer": "ipython3",
   "version": "3.10.10"
  }
 },
 "nbformat": 4,
 "nbformat_minor": 2
}
