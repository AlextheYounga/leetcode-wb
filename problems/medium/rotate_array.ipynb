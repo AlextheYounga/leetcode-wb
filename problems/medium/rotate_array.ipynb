{
 "cells": [
  {
   "cell_type": "markdown",
   "metadata": {},
   "source": [
    "# Rotate Array\n",
    "Given an integer array nums, rotate the array to the right by k steps, where k is non-negative.\n",
    "\n",
    "\n",
    "### Example 1:\n",
    "Input: `nums = [1,2,3,4,5,6,7], k = 3`\n",
    "Output: [5,6,7,1,2,3,4]\n",
    "Explanation:\n",
    "rotate 1 steps to the right: [7,1,2,3,4,5,6]\n",
    "rotate 2 steps to the right: [6,7,1,2,3,4,5]\n",
    "rotate 3 steps to the right: [5,6,7,1,2,3,4]\n",
    "\n",
    "\n",
    "### Example 2:\n",
    "Input: `nums = [-1,-100,3,99], k = 2`\n",
    "Output: [3,99,-1,-100]\n",
    "Explanation: \n",
    "rotate 1 steps to the right: [99,-1,-100,3]\n",
    "rotate 2 steps to the right: [3,99,-1,-100]\n",
    " \n",
    "\n",
    "### Constraints:\n",
    "`1 <= nums.length <= 105`\n",
    "`-231 <= nums[i] <= 231 - 1`\n",
    "`0 <= k <= 105`\n",
    " \n",
    "\n",
    "### Follow up:\n",
    "Try to come up with as many solutions as you can. There are at least three different ways to solve this problem.\n",
    "Could you do it in-place with O(1) extra space?\n"
   ]
  },
  {
   "cell_type": "code",
   "execution_count": 22,
   "metadata": {
    "tags": [
     "Failed"
    ]
   },
   "outputs": [
    {
     "name": "stdout",
     "output_type": "stream",
     "text": [
      "[5, 6, 7, 1, 2, 3, 4]\n",
      "[3, 99, -1, -100]\n",
      "[2, 1]\n",
      "[3, 1, 2]\n"
     ]
    }
   ],
   "source": [
    "# First Strategy\n",
    "# STATUS: FAILED\n",
    "\n",
    "class Solution(object):\n",
    "    def rotate(self, nums, k):\n",
    "        \"\"\"\n",
    "        :type nums: List[int]\n",
    "        :type k: int\n",
    "        :rtype: None Do not return anything, modify nums in-place instead.\n",
    "        \"\"\"\n",
    "        if len(nums) > k:\n",
    "            left = len(nums) - k\n",
    "            for n in nums[:left]:\n",
    "                nums.append(n)\n",
    "                nums.pop(0)\n",
    "        else:\n",
    "            nums.reverse()\n",
    "            \n",
    "\n",
    "\n",
    "samples = [\n",
    "    [[1,2,3,4,5,6,7], 3], #=> [5,6,7,1,2,3,4]\n",
    "    [[-1,-100,3,99], 2], # => [3,99,-1,-100]\n",
    "    [[1,2], 5], #=> [2,1]\n",
    "    [[1,2], 2]\n",
    "]\n",
    "\n",
    "for sample in samples:\n",
    "    nums, k = sample\n",
    "    solution = Solution()\n",
    "    solution.rotate(nums, k)\n",
    "    print(nums)"
   ]
  },
  {
   "cell_type": "code",
   "execution_count": 27,
   "metadata": {
    "tags": [
     "Failed"
    ]
   },
   "outputs": [
    {
     "name": "stdout",
     "output_type": "stream",
     "text": [
      "[5686, 988782, 829524, 912278, 139803, 15449, 385796, 712148, 33299, 307966]\n",
      "[75399, 156232, 518336, 944645, 362611, 123731, 302966, 140434, 112512, 605896]\n"
     ]
    }
   ],
   "source": [
    "# Second Strategy. \n",
    "# We need to keep rotating the array\n",
    "# STATUS: FAILED\n",
    "\n",
    "from data.rotate_nums import rotate_nums_sample\n",
    "\n",
    "class Solution(object):\n",
    "    def rotate(self, nums, k):\n",
    "        \"\"\"\n",
    "        :type nums: List[int]\n",
    "        :type k: int\n",
    "        :rtype: None Do not return anything, modify nums in-place instead.\n",
    "        \"\"\"\n",
    "        for _ in range(k):\n",
    "            i = nums.pop()\n",
    "            nums.insert(0, i)\n",
    "\n",
    "\n",
    "samples = [\n",
    "    # [[1,2,3,4,5,6,7], 3], #=> [5,6,7,1,2,3,4]\n",
    "    # [[-1,-100,3,99], 2], # => [3,99,-1,-100]\n",
    "    # [[1,2], 5], #=> [2,1]\n",
    "    # [[1,2], 2], #=> [1,2]\n",
    "    [rotate_nums_sample, 54944] # Takes 3.5 seconds\n",
    "]\n",
    "\n",
    "for sample in samples:\n",
    "    nums, k = sample\n",
    "    solution = Solution()\n",
    "    print(nums[:10])\n",
    "    solution.rotate(nums, k)\n",
    "    print(nums[:10])\n",
    "\n",
    "    # Exceeding time limits in large sample. Ugh"
   ]
  },
  {
   "cell_type": "code",
   "execution_count": 21,
   "metadata": {},
   "outputs": [
    {
     "name": "stdout",
     "output_type": "stream",
     "text": [
      "[3, 2, 1] 1\n",
      "[3, 2, 1] 2\n"
     ]
    }
   ],
   "source": [
    "# Third Strategy. \n",
    "# We need to make it a lot faster\n",
    "# This was faster, but too complex and couldn't handle edge cases\n",
    "# STATUS: FAILED\n",
    "\n",
    "from data.rotate_nums import rotate_nums_sample\n",
    "\n",
    "class Solution(object):\n",
    "    def rotate(self, nums, k):\n",
    "        \"\"\"\n",
    "        :type nums: List[int]\n",
    "        :type k: int\n",
    "        :rtype: None Do not return anything, modify nums in-place instead.\n",
    "        \"\"\"\n",
    "        count = len(nums)\n",
    "        if count < 2: return \n",
    "\n",
    "        if count == 2:\n",
    "            # Sets of 2 are easy, they can just be reversed for every count of k\n",
    "            # There's probably a more elegant way to handle this, but I have other things to do. \n",
    "            for _ in range(k):\n",
    "                nums.reverse()\n",
    "            return \n",
    "        \n",
    "        if k > count:\n",
    "            # K can sometimes be much bigger than nums\n",
    "            # So if k is a multiple of nums, let's just keep reversing it until k is smaller than count\n",
    "            while k > count:\n",
    "                nums.reverse()\n",
    "                k = k - count # Let's reduce k so we can use it for the remainder\n",
    "                print(nums, k)\n",
    "\n",
    "        # Let's handle the remainder\n",
    "        left = count - k\n",
    "        left_array = nums[:left]\n",
    "        nums += left_array\n",
    "        del nums[:left]\n",
    "        \n",
    "\n",
    "samples = [\n",
    "    # [[1,2,3,4,5,6,7], 3], #=> [5,6,7,1,2,3,4]\n",
    "    # [[1,2,3,4,5,6,7], 10], #=> [5,6,7,1,2,3,4]\n",
    "    # [[-1,-100,3,99], 2], # => [3,99,-1,-100]\n",
    "    # [[1,2], 5], #=> [2,1]\n",
    "    # [[1,2], 2], #=> [1,2]\n",
    "    # [[1,2], 3], #=> [2,1]\n",
    "    [[1,2,3], 4] #=> [3,1,2]\n",
    "    # [rotate_nums_sample, 54944],\n",
    "    # [rotate_nums_sample, 2000000]\n",
    "]\n",
    "\n",
    "for sample in samples:\n",
    "    nums, k = sample\n",
    "    solution = Solution()\n",
    "    solution.rotate(nums, k)\n",
    "    # print(nums)\n"
   ]
  },
  {
   "cell_type": "code",
   "execution_count": 41,
   "metadata": {},
   "outputs": [
    {
     "name": "stdout",
     "output_type": "stream",
     "text": [
      "[5, 6, 7, 1, 2, 3, 4]\n",
      "[5, 6, 7, 1, 2, 3, 4]\n",
      "[3, 99, -1, -100]\n",
      "[2, 1]\n",
      "[1, 2]\n",
      "[2, 1]\n",
      "[2, 3, 1]\n",
      "[3, 1, 2]\n"
     ]
    }
   ],
   "source": [
    "# Fourth Strategy\n",
    "# STATUS: SUCCESS!\n",
    "\n",
    "from data.rotate_nums import rotate_nums_sample\n",
    "\n",
    "class Solution(object):\n",
    "    def rotate(self, nums, k):\n",
    "        \"\"\"\n",
    "        :type nums: List[int]\n",
    "        :type k: int\n",
    "        :rtype: None Do not return anything, modify nums in-place instead.\n",
    "        \"\"\"\n",
    "        count = len(nums)\n",
    "        if count < 2: return \n",
    "\n",
    "        if count == 2:\n",
    "            # Sets of 2 are easy, they can just be reversed for every count of k\n",
    "            # There's probably a more elegant way to handle this, but I have other things to do. \n",
    "            for _ in range(k):\n",
    "                nums.reverse()\n",
    "            return \n",
    "        \n",
    "        # Let's keep appending everything on the left side of k to the end of the array until k runs out\n",
    "        while k > 0:\n",
    "            left = count - k if count > k else count # Can't splice with a number higher than count\n",
    "            left_array = nums[:left]\n",
    "            nums += left_array # Move left segment to end of array\n",
    "            del nums[:left] # Delete left segment\n",
    "            k_subtract = k if count > k else count\n",
    "            k = k - k_subtract # Reduce k until we hit 0\n",
    "            \n",
    "        \n",
    "\n",
    "samples = [\n",
    "    [[1,2,3,4,5,6,7], 3], #=> [5,6,7,1,2,3,4]\n",
    "    [[1,2,3,4,5,6,7], 10], #=> [5,6,7,1,2,3,4]\n",
    "    [[-1,-100,3,99], 2], # => [3,99,-1,-100]\n",
    "    [[1,2], 5], #=> [2,1]\n",
    "    [[1,2], 2], #=> [1,2]\n",
    "    [[1,2], 3], #=> [2,1]\n",
    "    [[1,2,3], 2], #=> [2,3,1]\n",
    "    [[1,2,3], 4], #=> [3,1,2]\n",
    "    # [rotate_nums_sample, 54944],\n",
    "    # [rotate_nums_sample, 2000000]\n",
    "]\n",
    "\n",
    "for sample in samples:\n",
    "    nums, k = sample\n",
    "    solution = Solution()\n",
    "    solution.rotate(nums, k)\n",
    "    print(nums[:10])"
   ]
  },
  {
   "cell_type": "code",
   "execution_count": null,
   "metadata": {},
   "outputs": [],
   "source": [
    "# Best Solution\n",
    "# Interesting and simple\n",
    "\n",
    "class Solution(object):\n",
    "   def rotate(self, nums, k):\n",
    "       # Get the actual number of rotations\n",
    "       k = k % len(nums)      \n",
    "       # Get the number of elements to move from the end to the beginning\n",
    "       r = len(nums) - k\n",
    "       # Store the elements to move\n",
    "       new = nums[0:r]\n",
    "       # Remove the elements from the beginning\n",
    "       nums[0:r] = []\n",
    "       # Append the stored elements to the end\n",
    "       nums.extend(new)"
   ]
  }
 ],
 "metadata": {
  "kernelspec": {
   "display_name": "leetcode-wb",
   "language": "python",
   "name": "python3"
  },
  "language_info": {
   "codemirror_mode": {
    "name": "ipython",
    "version": 3
   },
   "file_extension": ".py",
   "mimetype": "text/x-python",
   "name": "python",
   "nbconvert_exporter": "python",
   "pygments_lexer": "ipython3",
   "version": "3.10.10"
  }
 },
 "nbformat": 4,
 "nbformat_minor": 2
}
