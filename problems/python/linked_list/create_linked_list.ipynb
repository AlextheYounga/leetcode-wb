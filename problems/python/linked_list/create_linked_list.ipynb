{
 "cells": [
  {
   "cell_type": "markdown",
   "id": "350dd7de",
   "metadata": {},
   "source": [
    "# Create Linked List\n",
    "\n",
    "This was not a LeetCode question. I needed to find the best way of creating a linked list given a list. \n",
    "\n",
    "Below is my First attempt and Final attempt after given some hints"
   ]
  },
  {
   "cell_type": "code",
   "execution_count": null,
   "id": "fae9a4c9",
   "metadata": {},
   "outputs": [],
   "source": [
    "# Definition for singly-linked list.\n",
    "class ListNode:\n",
    "\tdef __init__(self, val=0, next=None):\n",
    "\t\tself.val = val\n",
    "\t\tself.next = next"
   ]
  },
  {
   "cell_type": "code",
   "execution_count": null,
   "id": "650621ff",
   "metadata": {},
   "outputs": [],
   "source": [
    "\n",
    "# First attempt\n",
    "def to_linked_list(list):\n",
    "\tnodes = []\n",
    "\tfor l in list: nodes.append(ListNode(l)) # Create Nodes\n",
    "\tfor i in range(len(nodes)-1): \n",
    "\t\tnodes[i].next = nodes[i + 1] # Link Nodes\n",
    "\treturn nodes[0] # Head\n",
    "\n",
    "# Pros: intuitive\n",
    "# Cons: Uses two loops"
   ]
  },
  {
   "cell_type": "code",
   "execution_count": null,
   "id": "6f15c0e4",
   "metadata": {},
   "outputs": [],
   "source": [
    "# Second Attempt\n",
    "\n",
    "def to_linked_list(lst):\n",
    "\tif not lst: return\n",
    "\thead = ListNode(val=lst[0])\n",
    "\tcurrent = head\n",
    "\tfor i in range(1, len(lst)):\n",
    "\t\tcurrent.next = ListNode(val=lst[i])\n",
    "\t\tcurrent = current.next\n",
    "\treturn head\n",
    "\n",
    "# This approach constructs the list in one pass. \n",
    "# Instead of using two lists, you can use two pointers for the same list. "
   ]
  }
 ],
 "metadata": {
  "language_info": {
   "name": "python"
  }
 },
 "nbformat": 4,
 "nbformat_minor": 5
}
