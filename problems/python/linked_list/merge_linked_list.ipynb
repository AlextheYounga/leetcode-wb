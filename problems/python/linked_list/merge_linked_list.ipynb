{
 "cells": [
  {
   "cell_type": "markdown",
   "id": "867c826d",
   "metadata": {},
   "source": [
    "# Merge Two Sorted Lists\n",
    "`Easy` | [Leetcode Link](https://leetcode.com/problems/merge-two-sorted-lists/description/?envType=study-plan-v2&envId=top-interview-150)\n",
    "\n",
    "## Description\n",
    "You are given the heads of two sorted linked lists list1 and list2.\n",
    "Merge the two lists into one sorted list. The list should be made by splicing together the nodes of the first two lists.\n",
    "Return the head of the merged linked list.\n",
    "\n",
    "## Example 1:\n",
    "![merge two](img/merge_two.jpg)\n",
    "Input: `list1 = [1,2,4], list2 = [1,3,4]`\n",
    "Output: [1,1,2,3,4,4]\n",
    "\n",
    "## Example 2:\n",
    "Input: `list1 = [], list2 = []`\n",
    "Output: []\n",
    "\n",
    "## Example 3:\n",
    "Input: list1 = [], list2 = [0]\n",
    "Output: [0]\n",
    "\n",
    "## Constraints:\n",
    "- The number of nodes in both lists is in the range [0, 50].\n",
    "- -100 <= Node.val <= 100\n",
    "- Both list1 and list2 are sorted in non-decreasing order.\n",
    "\n",
    "```python\n",
    "# Definition for singly-linked list.\n",
    "class ListNode(object):\n",
    "    def __init__(self, x):\n",
    "        self.val = x\n",
    "        self.next = None\n",
    "```\n"
   ]
  },
  {
   "cell_type": "code",
   "execution_count": null,
   "id": "f6364d5e",
   "metadata": {},
   "outputs": [
    {
     "ename": "IndentationError",
     "evalue": "expected an indented block after 'if' statement on line 16 (1255588909.py, line 25)",
     "output_type": "error",
     "traceback": [
      "  \u001b[36mCell\u001b[39m\u001b[36m \u001b[39m\u001b[32mIn[1]\u001b[39m\u001b[32m, line 25\u001b[39m\n\u001b[31m    \u001b[39m\u001b[31mdef to_linked_list(list):\u001b[39m\n                             ^\n\u001b[31mIndentationError\u001b[39m\u001b[31m:\u001b[39m expected an indented block after 'if' statement on line 16\n"
     ]
    }
   ],
   "source": [
    "from typing import Optional\n",
    "\n",
    "# Definition for singly-linked list.\n",
    "class ListNode:\n",
    "\tdef __init__(self, val=0, next=None):\n",
    "\t\tself.val = val\n",
    "\t\tself.next = next\n",
    "\n",
    "\n",
    "class Solution:\n",
    "\tdef mergeTwoLists(self, list1: Optional[ListNode], list2: Optional[ListNode]) -> Optional[ListNode]:\n",
    "\t\tif not list1 and not list2: return []\n",
    "\t\tnodes = []\n",
    "\t\tfor node1 in list1:\n",
    "\t\t\tfor node2 in list2:\n",
    "\t\t\t\tif node1.val == node2.val:\n",
    "\n",
    "\t\t\t\t\t\n",
    "\t\t\t\t\t\n",
    "\t\t\t\t\n",
    "\t\t\t\n",
    "\n",
    "\n",
    "\n",
    "# --- Workspace ---\n",
    "\n",
    "def to_linked_list(list):\n",
    "\tnodes = []\n",
    "\tif len(list) == 0: return None\n",
    "\tfor l in list: nodes.append(ListNode(l)) # Create Nodes\n",
    "\tfor i in range(len(nodes)): \n",
    "\t\tif i < range(len(nodes))[-1]: # Unless last item\n",
    "\t\t\tnodes[i].next = nodes[i + 1] # Link Nodes\n",
    "\treturn nodes[0] # Head\n",
    "\n",
    "samples = [\n",
    "\t[[1,2,4], [1,3,4]],\n",
    "\t[[], []],\n",
    "\t[[], [0]]\n",
    "]\n",
    "\n",
    "head = to_linked_list(samples[1][0])\n",
    "print(head, head.val, head.next)\n",
    "\n",
    "for sample in samples:\n",
    "\tsolution = Solution()\n",
    "\tlist1, list2 = sample\n",
    "\tresult = solution.mergeTwoLists(to_linked_list(list1), to_linked_list(list2))\n",
    "\tprint(result)"
   ]
  }
 ],
 "metadata": {
  "kernelspec": {
   "display_name": ".venv",
   "language": "python",
   "name": "python3"
  },
  "language_info": {
   "codemirror_mode": {
    "name": "ipython",
    "version": 3
   },
   "file_extension": ".py",
   "mimetype": "text/x-python",
   "name": "python",
   "nbconvert_exporter": "python",
   "pygments_lexer": "ipython3",
   "version": "3.13.3"
  }
 },
 "nbformat": 4,
 "nbformat_minor": 5
}
