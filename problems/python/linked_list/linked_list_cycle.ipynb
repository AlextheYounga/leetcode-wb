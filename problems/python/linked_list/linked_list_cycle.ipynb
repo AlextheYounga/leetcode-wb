{
 "cells": [
  {
   "cell_type": "markdown",
   "metadata": {},
   "source": [
    "# Linked List Cycle\n",
    "`Easy` | [Leetcode Link](https://leetcode.com/problems/linked-list-cycle/description/)\n",
    "\n",
    "## Description\n",
    "Given head, the head of a linked list, determine if the linked list has a cycle in it.\n",
    "\n",
    "There is a cycle in a linked list if there is some node in the list that can be reached again by continuously following the next pointer. Internally, pos is used to denote the index of the node that tail's next pointer is connected to. Note that pos is not passed as a parameter.\n",
    "\n",
    "Return true if there is a cycle in the linked list. Otherwise, return false.\n",
    "\n",
    "## Example 1:\n",
    "![linkedlist](img/circularlinkedlist.png)\n",
    "Input: `head = [3,2,0,-4], pos = 1`\n",
    "Output: true\n",
    "Explanation: There is a cycle in the linked list, where the tail connects to the 1st node (0-indexed).\n",
    "\n",
    "## Example 2:`\n",
    "Input: `head = [1,2], pos = 0`\n",
    "Output: true\n",
    "Explanation: There is a cycle in the linked list, where the tail connects to the 0th node.\n",
    "\n",
    "## Example 3:\n",
    "Input: `head = [1], pos = -1`\n",
    "Output: false\n",
    "Explanation: There is no cycle in the linked list.\n",
    "\n",
    "## Constraints:\n",
    "- The number of the nodes in the list is in the range [0, 104].\n",
    "- -105 <= Node.val <= 105\n",
    "- pos is -1 or a valid index in the linked-list.\n",
    "\n",
    "## Follow up\n",
    "Can you solve it using O(1) (i.e. constant) memory?\n",
    "\n",
    "## Definitions\n",
    "```python\n",
    "# Definition for singly-linked list.\n",
    "class ListNode(object):\n",
    "    def __init__(self, x):\n",
    "        self.val = x\n",
    "        self.next = None\n",
    "```"
   ]
  },
  {
   "cell_type": "markdown",
   "metadata": {},
   "source": [
    "Had to look this one up. Too much I didn't understand about the question itself\n",
    "\n",
    "## Explanation\n",
    "This algorithm uses two pointers, `fast` and `slow`, to traverse the linked list. The fast pointer moves twice as fast as the slow pointer. If there is a cycle, the fast pointer will eventually catch up to the slow pointer. If there is no cycle, the fast pointer will reach the end of the list, and the function will return False. This algorithm is an efficient way to detect cycles in a singly-linked list."
   ]
  },
  {
   "cell_type": "code",
   "execution_count": 4,
   "metadata": {},
   "outputs": [
    {
     "name": "stdout",
     "output_type": "stream",
     "text": [
      "True\n"
     ]
    }
   ],
   "source": [
    "class ListNode(object):\n",
    "    def __init__(self, x):\n",
    "        self.val = x\n",
    "        self.next = None\n",
    "\n",
    "class Solution(object):\n",
    "    def hasCycle(self, head):\n",
    "        \"\"\"\n",
    "        :type head: ListNode\n",
    "        :rtype: bool\n",
    "        \"\"\"\n",
    "        fast = head\n",
    "        slow = head\n",
    "        \n",
    "        while fast and fast.next:\n",
    "            fast = fast.next.next\n",
    "            slow = slow.next\n",
    "            \n",
    "            if fast == slow:\n",
    "                return True\n",
    "    \n",
    "        return False\n",
    "\n",
    "# Create the linked list nodes\n",
    "node1 = ListNode(3)\n",
    "node2 = ListNode(2)\n",
    "node3 = ListNode(0)\n",
    "node4 = ListNode(-4)\n",
    "\n",
    "# Link the nodes\n",
    "node1.next = node2\n",
    "node2.next = node3\n",
    "node3.next = node4\n",
    "\n",
    "head = node2\n",
    "\n",
    "# Create the cycle\n",
    "node4.next = node2  # Points back to the node at position 1 (second node)\n",
    "\n",
    "samples = [\n",
    "\thead\n",
    "]\n",
    "\n",
    "for sample in samples:\n",
    "    solution = Solution()\n",
    "    result = solution.hasCycle(sample)\n",
    "    print(result)"
   ]
  }
 ],
 "metadata": {
  "kernelspec": {
   "display_name": "leetcode-wb",
   "language": "python",
   "name": "python3"
  },
  "language_info": {
   "codemirror_mode": {
    "name": "ipython",
    "version": 3
   },
   "file_extension": ".py",
   "mimetype": "text/x-python",
   "name": "python",
   "nbconvert_exporter": "python",
   "pygments_lexer": "ipython3",
   "version": "3.10.10"
  }
 },
 "nbformat": 4,
 "nbformat_minor": 2
}
