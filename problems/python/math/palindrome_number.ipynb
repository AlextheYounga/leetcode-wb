{
 "cells": [
  {
   "cell_type": "markdown",
   "metadata": {},
   "source": [
    "# Palindrome Number\n",
    "`Easy` | [Leetcode Link](https://leetcode.com/problems/palindrome-number/description/)\n",
    "\n",
    "## Description\n",
    "Given an integer x, return true if x is a palindrome, and false otherwise.\n",
    "\n",
    "## Example 1:\n",
    "Input: x = 121\\\n",
    "Output: true\\\n",
    "Explanation: 121 reads as 121 from left to right and from right to left.\n",
    "\n",
    "## Example 2:\n",
    "Input: x = -121\\\n",
    "Output: false\\\n",
    "Explanation: From left to right, it reads -121. From right to left, it becomes 121-. Therefore it is not a palindrome.\n",
    "\n",
    "## Example 3:\n",
    "Input: x = 10\\\n",
    "Output: false\\\n",
    "Explanation: Reads 01 from right to left. Therefore it is not a palindrome.\n",
    "\n",
    "## Constraints:\n",
    "`-231 <= x <= 231 - 1`\n",
    "\n",
    "## Follow up\n",
    "Could you solve it without converting the integer to a string?"
   ]
  },
  {
   "cell_type": "code",
   "execution_count": 2,
   "metadata": {},
   "outputs": [
    {
     "name": "stdout",
     "output_type": "stream",
     "text": [
      "True\n",
      "False\n",
      "False\n"
     ]
    }
   ],
   "source": [
    "class Solution(object):\n",
    "    def isPalindrome(self, x):\n",
    "        \"\"\"\n",
    "        :type x: int\n",
    "        :rtype: bool\n",
    "        \"\"\"\n",
    "        if x < 0: return False\n",
    "        return str(x)[::-1] == str(x)\n",
    "\n",
    "samples = [\n",
    "\t121,\n",
    "    -121,\n",
    "    10\n",
    "]\n",
    "\n",
    "for sample in samples:\n",
    "    solution = Solution()\n",
    "    result = solution.isPalindrome(sample)\n",
    "    print(result)"
   ]
  }
 ],
 "metadata": {
  "kernelspec": {
   "display_name": "leetcode-wb",
   "language": "python",
   "name": "python3"
  },
  "language_info": {
   "codemirror_mode": {
    "name": "ipython",
    "version": 3
   },
   "file_extension": ".py",
   "mimetype": "text/x-python",
   "name": "python",
   "nbconvert_exporter": "python",
   "pygments_lexer": "ipython3",
   "version": "3.10.10"
  }
 },
 "nbformat": 4,
 "nbformat_minor": 2
}
