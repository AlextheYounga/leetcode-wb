{
 "cells": [
  {
   "cell_type": "markdown",
   "metadata": {},
   "source": [
    "# Rotate Image\n",
    "`Medium` | [Leetcode Link](https://leetcode.com/problems/rotate-image/description)\n",
    "\n",
    "## Description\n",
    "You are given an n x n 2D matrix representing an image, rotate the image by 90 degrees (clockwise).\n",
    "\n",
    "You have to rotate the image in-place, which means you have to modify the input 2D matrix directly. DO NOT allocate another 2D matrix and do the rotation.\n",
    "\n",
    "## Examples\n",
    "![image matrix](img/mat1.jpg)\n",
    "\n",
    "Input: matrix = [[1,2,3],[4,5,6],[7,8,9]]\\\n",
    "Output: [[7,4,1],[8,5,2],[9,6,3]]\n",
    "\n",
    "Input: matrix = [[5,1,9,11],[2,4,8,10],[13,3,6,7],[15,14,12,16]]\\\n",
    "Output: [[15,13,2,5],[14,3,4,1],[12,6,8,9],[16,7,10,11]]\n",
    "\n",
    "## Constraints\n",
    "`n == matrix.length == matrix[i].length`\\\n",
    "`1 <= n <= 20`\\\n",
    "`-1000 <= matrix[i][j] <= 1000`"
   ]
  },
  {
   "cell_type": "markdown",
   "metadata": {},
   "source": [
    "\n",
    "Input: matrix = [[1,2,3],[4,5,6],[7,8,9]]\\\n",
    "Output: [[7,4,1],[8,5,2],[9,6,3]]\n",
    "\n",
    "Input: matrix = [[5,1,9,11],[2,4,8,10],[13,3,6,7],[15,14,12,16]]\\\n",
    "Output: [[15,13,2,5],[14,3,4,1],[12,6,8,9],[16,7,10,11]]\n",
    "\n",
    "## Constraints\n",
    "`n == matrix.length == matrix[i].length`\n",
    "`1 <= n <= 20`\n",
    "`-1000 <= matrix[i][j] <= 1000`"
   ]
  },
  {
   "cell_type": "code",
   "execution_count": null,
   "metadata": {},
   "outputs": [
    {
     "name": "stdout",
     "output_type": "stream",
     "text": [
      "[[1, 4, 1], [2, 5, 4], [3, 4, 1]]\n",
      "[[5, 2, 13, 5], [1, 4, 4, 2], [9, 8, 4, 13], [11, 13, 2, 5]]\n"
     ]
    }
   ],
   "source": [
    "import copy\n",
    "\n",
    "class Solution(object):\n",
    "\tdef rotate(self, matrix):\n",
    "\t\t\"\"\"\n",
    "\t\t:type matrix: List[List[int]]\n",
    "\t\t:rtype: None Do not return anything, modify matrix in-place instead.\n",
    "\t\t\"\"\"\n",
    "\t\timage = copy.deepcopy(matrix)\n",
    "\t\tfor row in range(0, len(image)):\n",
    "\t\t\tfor index, col in enumerate(reversed(range(0, len(image[row])))):\n",
    "\t\t\t\tmatrix[row][index] = image[col][row]\n",
    "\t\t\t\t\n",
    "samples = [\n",
    "\t[[1,2,3],[4,5,6],[7,8,9]], # => [[7,4,1],[8,5,2],[9,6,3]]\n",
    "\t[[5,1,9,11],[2,4,8,10],[13,3,6,7],[15,14,12,16]] # => [[15,13,2,5],[14,3,4,1],[12,6,8,9],[16,7,10,11]]\n",
    "]\n",
    "\n",
    "for sample in samples:\n",
    "\tsolution = Solution()\n",
    "\tsolution.rotate(sample)\n",
    "\tprint(sample)\t"
   ]
  }
 ],
 "metadata": {
  "kernelspec": {
   "display_name": "leetcode-wb",
   "language": "python",
   "name": "python3"
  },
  "language_info": {
   "codemirror_mode": {
    "name": "ipython",
    "version": 3
   },
   "file_extension": ".py",
   "mimetype": "text/x-python",
   "name": "python",
   "nbconvert_exporter": "python",
   "pygments_lexer": "ipython3",
   "version": "3.10.10"
  }
 },
 "nbformat": 4,
 "nbformat_minor": 2
}
