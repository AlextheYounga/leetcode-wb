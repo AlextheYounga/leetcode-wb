{
 "cells": [
  {
   "cell_type": "markdown",
   "metadata": {},
   "source": [
    "# Game of Life\n",
    "`Medium` | [Leetcode Link](https://leetcode.com/problems/game-of-life/description)\n",
    "\n",
    "## Description\n",
    "According to [Wikipedia's article](https://en.wikipedia.org/wiki/Conway%27s_Game_of_Life): \"The Game of Life, also known simply as Life, is a cellular automaton devised by the British mathematician John Horton Conway in 1970.\"\n",
    "\n",
    "The board is made up of an `m x n` grid of cells, where each cell has an initial state: live (represented by a 1) or dead (represented by a 0). Each cell interacts with its [eight neighbors](https://en.wikipedia.org/wiki/Moore_neighborhood) (horizontal, vertical, diagonal) using the following four rules (taken from the above Wikipedia article):\n",
    "\n",
    "1. Any live cell with fewer than two live neighbors dies as if caused by under-population.\n",
    "2. Any live cell with two or three live neighbors lives on to the next generation.\n",
    "3. Any live cell with more than three live neighbors dies, as if by over-population.\n",
    "4. Any dead cell with exactly three live neighbors becomes a live cell, as if by reproduction.\n",
    "  \n",
    "The next state is created by applying the above rules simultaneously to every cell in the current state, where births and deaths occur simultaneously. Given the current state of the `m x n` grid board, return the next state.\n",
    "\n",
    "## Examples\n",
    "![game of life matrix](img/gol_grid.jpg)\n",
    "\n",
    "Input: `board = [[0,1,0],[0,0,1],[1,1,1],[0,0,0]]`\\\n",
    "Output: `[[0,0,0],[1,0,1],[0,1,1],[0,1,0]]`\n",
    "\n",
    "Input: `board = [[1,1],[1,0]]`\\\n",
    "Output: `[[1,1],[1,1]]`\n",
    "\n",
    "## Contraints\n",
    "- `m == board.length`\n",
    "- `n == board[i].length`\n",
    "- `1 <= m, n <= 25`\n",
    "- `board[i][j] is 0 or 1.`\n",
    "\n",
    "## Follow Up\n",
    "- Could you solve it in-place? Remember that the board needs to be updated simultaneously: You cannot update some cells first and then use their updated values to update other cells.\n",
    "\n",
    "- In this question, we represent the board using a 2D array. In principle, the board is infinite, which would cause problems when the active area encroaches upon the border of the array (i.e., live cells reach the border). How would you address these problems?"
   ]
  },
  {
   "cell_type": "code",
   "execution_count": null,
   "metadata": {},
   "outputs": [
    {
     "name": "stdout",
     "output_type": "stream",
     "text": [
      "[0, 1]\n"
     ]
    },
    {
     "ename": "SystemExit",
     "evalue": "",
     "output_type": "error",
     "traceback": [
      "An exception has occurred, use %tb to see the full traceback.\n",
      "\u001b[0;31mSystemExit\u001b[0m\n"
     ]
    },
    {
     "name": "stderr",
     "output_type": "stream",
     "text": [
      "/Users/alexyounger/.pyenv/versions/3.10.10/envs/leetcode-wb/lib/python3.10/site-packages/IPython/core/interactiveshell.py:3585: UserWarning: To exit: use 'exit', 'quit', or Ctrl-D.\n",
      "  warn(\"To exit: use 'exit', 'quit', or Ctrl-D.\", stacklevel=1)\n"
     ]
    }
   ],
   "source": [
    "import copy\n",
    "\n",
    "class Solution(object):\n",
    "\tdef game_of_life(self, board):\n",
    "\t\t\"\"\"\n",
    "\t\t:type board: List[List[int]]\n",
    "\t\t:rtype: None Do not return anything, modify board in-place instead.\n",
    "\t\t\"\"\"\n",
    "\t\tgrid = copy.deepcopy(board)  \n",
    "\n",
    "\t\tfor row in range(0, len(grid)):\n",
    "\t\t\tfor col in range(0, len(grid[row])):\n",
    "\t\t\t\t# row + 2 is used here because range stops before limit, so range(0, 2) => [0,1]\n",
    "\t\t\t\trows = range(max(0, row - 1), min(row + 2, len(grid))) \n",
    "\t\t\t\tcols = range(max(0, col - 1), min(col + 2, len(grid[0])))\n",
    "\n",
    "\t\t\t\tneighbors = [grid[r][c] for r in rows for c in cols] # moore neighborhood\n",
    "\t\t\t\tcell = grid[row][col]\n",
    "\t\t\t\tvalue = sum(neighbors) - cell\n",
    "\n",
    "\t\t\t\tif cell == 1:\n",
    "\t\t\t\t\tif (value < 2) or (value > 3):\n",
    "\t\t\t\t\t\tboard[row][col] = 0\n",
    "\t\t\t\telse:\n",
    "\t\t\t\t\tif value == 3:\n",
    "\t\t\t\t\t\tboard[row][col] = 1\n",
    "\t\t\t\n",
    "samples = [\n",
    "\t[[0,1,0],[0,0,1],[1,1,1],[0,0,0]], # => [[0,0,0],[1,0,1],[0,1,1],[0,1,0]]\n",
    "\t[[1,1],[1,0]] # => [[1,1],[1,1]]\n",
    "]\n",
    "\n",
    "for sample in samples:\n",
    "\tsolution = Solution()\n",
    "\tsolution.game_of_life(sample)\n",
    "\tprint(sample)\t"
   ]
  }
 ],
 "metadata": {
  "kernelspec": {
   "display_name": "leetcode-wb",
   "language": "python",
   "name": "python3"
  },
  "language_info": {
   "codemirror_mode": {
    "name": "ipython",
    "version": 3
   },
   "file_extension": ".py",
   "mimetype": "text/x-python",
   "name": "python",
   "nbconvert_exporter": "python",
   "pygments_lexer": "ipython3",
   "version": "3.10.10"
  }
 },
 "nbformat": 4,
 "nbformat_minor": 2
}
