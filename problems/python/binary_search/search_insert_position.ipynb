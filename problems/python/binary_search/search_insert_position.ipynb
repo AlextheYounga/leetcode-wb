{
 "cells": [
  {
   "cell_type": "markdown",
   "metadata": {},
   "source": [
    "# Search Insert Position\n",
    "`Easy` | [Leetcode Link](https://leetcode.com/problems/search-insert-position)\n",
    "\n",
    "## Description\n",
    "Given a sorted array of distinct integers and a target value, return the index if the target is found. If not, return the index where it would be if it were inserted in order.\n",
    "\n",
    "You must write an algorithm with O(log n) runtime complexity.\n",
    "\n",
    "### Example 1:\n",
    "Input: nums = [1,3,5,6], target = 5\\\n",
    "Output: 2\n",
    "\n",
    "### Example 2:\n",
    "Input: nums = [1,3,5,6], target = 2\\\n",
    "Output: 2\n",
    "\n",
    "### Example 3:\n",
    "Input: nums = [1,3,5,6], target = 7\\\n",
    "Output: 4\n",
    "\n",
    "### Constraints:\n",
    "`1 <= nums.length <= 104`\\\n",
    "`-104 <= nums[i] <= 104`\\\n",
    "nums contains distinct values sorted in ascending order.\\\n",
    "`-104 <= target <= 104`\\"
   ]
  },
  {
   "cell_type": "code",
   "execution_count": 23,
   "metadata": {},
   "outputs": [],
   "source": [
    "class Solution(object):\n",
    "\tdef searchInsert(self, nums, target):\n",
    "\t\t\"\"\"\n",
    "\t\t:type nums: List[int]\n",
    "\t\t:type target: int\n",
    "\t\t:rtype: int\n",
    "\t\t\"\"\"\n",
    "\t\ttry:\n",
    "\t\t\treturn nums.index(target)\n",
    "\t\texcept ValueError:\n",
    "\t\t\tnums.append(target)\n",
    "\t\t\tnums.sort()\n",
    "\t\t\treturn nums.index(target)"
   ]
  },
  {
   "cell_type": "markdown",
   "metadata": {},
   "source": []
  },
  {
   "cell_type": "code",
   "execution_count": 24,
   "metadata": {},
   "outputs": [
    {
     "name": "stdout",
     "output_type": "stream",
     "text": [
      "2\n",
      "1\n",
      "4\n"
     ]
    }
   ],
   "source": [
    "samples = [\n",
    "    [[1,3,5,6], 5], #=> 2\n",
    "    [[1,3,5,6], 2], #=> 1\n",
    "    [[1,3,5,6], 7], #=> 4\n",
    "]\n",
    "\n",
    "for sample in samples:\n",
    "    nums, tgt = sample\n",
    "    solution = Solution()\n",
    "    val = solution.searchInsert(nums, tgt)\n",
    "    print(val)"
   ]
  },
  {
   "cell_type": "markdown",
   "metadata": {},
   "source": [
    "## Best Solution\n",
    "This might be faster, but I don't think I would ever use this code.\n",
    "\n",
    "```python\n",
    "class Solution(object):\n",
    "    def searchInsert(self, nums, target):\n",
    "        \"\"\"\n",
    "        :type nums: List[int]\n",
    "        :type target: int\n",
    "        :rtype: int\n",
    "        \"\"\"\n",
    "        index = -1\n",
    "        for i in range(0,len(nums)):\n",
    "            if target==nums[i]:\n",
    "                index = i\n",
    "        \n",
    "        if index==-1 and target <nums[len(nums)-1]:\n",
    "            for i in range(0,len(nums)):\n",
    "                if target<nums[i]:\n",
    "                    index = i\n",
    "                    break\n",
    "        elif index==-1 and target > nums[len(nums)-1]:\n",
    "            index = len(nums)\n",
    "\n",
    "\n",
    "        return index    \n",
    "```"
   ]
  }
 ],
 "metadata": {
  "kernelspec": {
   "display_name": "env",
   "language": "python",
   "name": "python3"
  },
  "language_info": {
   "codemirror_mode": {
    "name": "ipython",
    "version": 3
   },
   "file_extension": ".py",
   "mimetype": "text/x-python",
   "name": "python",
   "nbconvert_exporter": "python",
   "pygments_lexer": "ipython3",
   "version": "3.10.10"
  }
 },
 "nbformat": 4,
 "nbformat_minor": 2
}
