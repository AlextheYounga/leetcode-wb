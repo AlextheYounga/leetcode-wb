{
 "cells": [
  {
   "cell_type": "markdown",
   "metadata": {},
   "source": [
    "# Best Time to Buy Sell Stock\n",
    "You are given an array prices where prices[i] is the price of a given stock on the ith day.\n",
    "You want to maximize your profit by choosing a single day to buy one stock and choosing a different day in the future to sell that stock.\n",
    "Return the maximum profit you can achieve from this transaction. If you cannot achieve any profit, return 0.\n",
    "\n",
    "Example 1:\n",
    "\n",
    "Input: `prices = [7,1,5,3,6,4]`\n",
    "Output: 5\n",
    "Explanation: Buy on day 2 (price = 1) and sell on day 5 (price = 6), profit = 6-1 = 5.\n",
    "Note that buying on day 2 and selling on day 1 is not allowed because you must buy before you sell.\n",
    "Example 2:\n",
    "\n",
    "Input: `prices = [7,6,4,3,1]`\n",
    "Output: 0\n",
    "Explanation: In this case, no transactions are done and the max profit = 0.\n",
    " \n",
    "\n",
    "Constraints:\n",
    "\n",
    "`1 <= prices.length <= 105`\n",
    "`0 <= prices[i] <= 104`"
   ]
  },
  {
   "cell_type": "code",
   "execution_count": 45,
   "metadata": {},
   "outputs": [
    {
     "name": "stdout",
     "output_type": "stream",
     "text": [
      "5\n"
     ]
    }
   ],
   "source": [
    "# First Attempt\n",
    "# STATUS: FAILED\n",
    "# I got time limit exceeded on this one. Apparently it's too computationally inefficient for their large test sample case\n",
    "\n",
    "import json\n",
    "large_price_sample = json.load(open('data/prices.json'))\n",
    "\n",
    "class Solution(object):\n",
    "    def maxProfit(self, prices):\n",
    "        \"\"\"\n",
    "        :type prices: List[int]\n",
    "        :rtype: int\n",
    "        \"\"\"\n",
    "        pr = []\n",
    "        for i,p in enumerate(prices):\n",
    "            m = max(prices[i:])\n",
    "            pr.append(m - p)\n",
    "\n",
    "        return max(pr)\n",
    "\n",
    "            \n",
    "\n",
    "# prices = [7,6,4,3,1]\n",
    "prices = [7,1,5,3,6,4]\n",
    "\n",
    "# Large sample: 10.3 seconds\n",
    "solution = Solution()\n",
    "result = solution.maxProfit(prices)\n",
    "\n",
    "print(result)"
   ]
  },
  {
   "cell_type": "code",
   "execution_count": 46,
   "metadata": {},
   "outputs": [
    {
     "name": "stdout",
     "output_type": "stream",
     "text": [
      "5\n"
     ]
    }
   ],
   "source": [
    "import json\n",
    "large_price_sample = json.load(open('data/prices.json'))\n",
    "\n",
    "# Second Strategy\n",
    "# STATUS: FAILED\n",
    "\n",
    "class Solution(object):\n",
    "    def maxProfit(self, prices):\n",
    "        \"\"\"\n",
    "        :type prices: List[int]\n",
    "        :rtype: int\n",
    "        \"\"\"\n",
    "        pr = []\n",
    "        for i,p in enumerate(prices):\n",
    "            temp = prices[i:]\n",
    "            temp.sort()\n",
    "            pr.append(temp[-1] - p)\n",
    "\n",
    "        return max(pr)\n",
    "\n",
    "            \n",
    "\n",
    "# Large sample: 1 minute 33 seconds (wow)\n",
    "# prices = [7,6,4,3,1]\n",
    "prices = [7,1,5,3,6,4]\n",
    "# prices = [1] # handle single list test case\n",
    "solution = Solution()\n",
    "result = solution.maxProfit(prices)\n",
    "\n",
    "print(result)"
   ]
  },
  {
   "cell_type": "code",
   "execution_count": 47,
   "metadata": {},
   "outputs": [
    {
     "name": "stdout",
     "output_type": "stream",
     "text": [
      "5\n"
     ]
    }
   ],
   "source": [
    "# Third Strategy - exceeded time limit\n",
    "# STATUS: FAILED\n",
    "\n",
    "import json\n",
    "large_price_sample = json.load(open('data/prices.json'))\n",
    "\n",
    "class Solution(object):\n",
    "    def maxProfit(self, prices):\n",
    "        \"\"\"\n",
    "        :type prices: List[int]\n",
    "        :rtype: int\n",
    "        \"\"\"\n",
    "        if (len(prices) <= 1): return 0\n",
    "        pr = []\n",
    "        \n",
    "        while len(prices) > 1:\n",
    "            d = prices.pop(0)\n",
    "            pr.append(max(prices) - d)\n",
    "\n",
    "        max_p = max(pr)\n",
    "        return max_p if max_p > 0 else 0\n",
    "\n",
    "            \n",
    "# 8.6 seconds; best yet\n",
    "# prices = [7,6,4,3,1]\n",
    "# prices = [7,1,5,3,6,4]\n",
    "# prices = [1] # handle single list test case\n",
    "# prices = [2,1,2,1,0,1,2] # expects output of 2\n",
    "solution = Solution()\n",
    "result = solution.maxProfit(prices)\n",
    "\n",
    "print(result)"
   ]
  },
  {
   "cell_type": "code",
   "execution_count": 48,
   "metadata": {},
   "outputs": [
    {
     "name": "stdout",
     "output_type": "stream",
     "text": [
      "1 4\n",
      "0\n"
     ]
    }
   ],
   "source": [
    "# STATUS: AAAAAAAAAAAAAAAAAAAAAAAAAAAAAAAAAAAAAAAAAAAAAAAAAAAAAAAAAAAAAAAAAAAAAAAAHHHHHHHHHH\n",
    "# STATUS: FAILED\n",
    "\n",
    "import json\n",
    "large_price_sample = json.load(open('data/prices.json'))\n",
    "\n",
    "class Solution(object):\n",
    "    def maxProfit(self, prices):\n",
    "        \"\"\"\n",
    "        :type prices: List[int]\n",
    "        :rtype: int\n",
    "        \"\"\"\n",
    "        while len(prices) > 1:\n",
    "            h = max(prices)\n",
    "            hidx = prices.index(h)\n",
    "\n",
    "            if hidx == 0: \n",
    "                prices.pop(0)\n",
    "                continue\n",
    "\n",
    "            l = min(prices[:h])\n",
    "            lidx = prices.index(l)\n",
    "\n",
    "            print(l, h)\n",
    "\n",
    "            if hidx > lidx: \n",
    "                return h - l\n",
    "            del prices[hidx]\n",
    "            \n",
    "        return 0\n",
    "\n",
    "\n",
    "def run(set):\n",
    "    solution = Solution()\n",
    "    result = solution.maxProfit(set)\n",
    "    print(result)\n",
    "\n",
    "# run([7,6,4,3,1]) # => 0\n",
    "# run([7,1,5,3,6,4]) # => 5\n",
    "# run([1]) # => 0\n",
    "# run([2,1,2,1,0,1,2]) #=>  2\n",
    "run([2,4,1]) #=> 2\n",
    "# run(large_price_sample) #=> 999\n",
    "\n",
    "# So many problems here. Abandoning this attempt\n"
   ]
  },
  {
   "cell_type": "code",
   "execution_count": 3,
   "metadata": {},
   "outputs": [
    {
     "name": "stdout",
     "output_type": "stream",
     "text": [
      "0\n",
      "5\n",
      "0\n",
      "2\n",
      "2\n",
      "3\n"
     ]
    }
   ],
   "source": [
    "# STATUS: CRIPPLING DEPRESSION\n",
    "\n",
    "import json\n",
    "large_price_sample = json.load(open('data/prices.json'))\n",
    "\n",
    "class Solution(object):\n",
    "    def maxProfit(self, prices):\n",
    "        \"\"\"\n",
    "        :type prices: List[int]\n",
    "        :rtype: int\n",
    "        \"\"\"\n",
    "        while len(prices) > 1:\n",
    "            l = min(prices)\n",
    "            lidx = prices.index(l)\n",
    "            if lidx == (len(prices) - 1):\n",
    "                prices.pop()\n",
    "                continue\n",
    "            h = max(prices[lidx:])\n",
    "            return h - l\n",
    "        return 0\n",
    "            \n",
    "\n",
    "def run(set):\n",
    "    solution = Solution()\n",
    "    result = solution.maxProfit(set)\n",
    "    print(result)\n",
    "\n",
    "run([7,6,4,3,1]) # => 0\n",
    "run([7,1,5,3,6,4]) # => 5\n",
    "run([1]) # => 0\n",
    "run([2,1,2,1,0,1,2]) #=>  2\n",
    "run([2,4,1]) #=> 2\n",
    "run([3,2,6,5,0,3]) #=> 4\n",
    "# run(large_price_sample) #=> 999\n",
    "\n",
    "# HOW TF IS THIS THE HARDEST QUESTION I'VE EVER BEEN ASKED !??!?!?!?\n",
    "# I am giving up. I am cheating..."
   ]
  },
  {
   "cell_type": "code",
   "execution_count": 1,
   "metadata": {},
   "outputs": [
    {
     "name": "stdout",
     "output_type": "stream",
     "text": [
      "0\n",
      "5\n",
      "0\n",
      "2\n",
      "2\n",
      "4\n",
      "999\n"
     ]
    }
   ],
   "source": [
    "# STATUS: CHEATING USING GEEKS FOR GEEKS OR SOMETHING\n",
    "# Something I found on the internet. Man this sucks hard.\n",
    "\n",
    "import json\n",
    "large_price_sample = json.load(open('data/prices.json'))\n",
    "\n",
    "\n",
    "class Solution(object):\n",
    "    def maxProfit(self, prices):\n",
    "        \"\"\"\n",
    "        :type prices: List[int]\n",
    "        :rtype: int\n",
    "        \"\"\"\n",
    "        n = len(prices)\n",
    "        buy = prices[0]\n",
    "        max_profit = 0\n",
    "        for i in range(1, n):\n",
    "            # Checking for lower buy value\n",
    "            if (buy > prices[i]):\n",
    "                buy = prices[i]\n",
    "            # Checking for higher profit\n",
    "            elif (prices[i] - buy > max_profit):\n",
    "                max_profit = prices[i] - buy\n",
    "        return max_profit\n",
    "    \n",
    "\n",
    "def run(set):\n",
    "    solution = Solution()\n",
    "    result = solution.maxProfit(set)\n",
    "    print(result)\n",
    "\n",
    "run([7,6,4,3,1]) # => 0\n",
    "run([7,1,5,3,6,4]) # => 5\n",
    "run([1]) # => 0\n",
    "run([2,1,2,1,0,1,2]) #=>  2\n",
    "run([2,4,1]) #=> 2\n",
    "run([3,2,6,5,0,3]) #=> 4\n",
    "run(large_price_sample) #=> 999\n"
   ]
  },
  {
   "cell_type": "code",
   "execution_count": 2,
   "metadata": {},
   "outputs": [
    {
     "name": "stdout",
     "output_type": "stream",
     "text": [
      "0\n",
      "5\n",
      "0\n",
      "2\n",
      "2\n",
      "4\n",
      "999\n"
     ]
    }
   ],
   "source": [
    "# Best Solution\n",
    "\n",
    "class Solution:\n",
    "    def maxProfit(self, prices):\n",
    "        buy = prices[0]\n",
    "        profit = 0\n",
    "        for i in range(1, len(prices)):\n",
    "            if prices[i] < buy:\n",
    "                buy = prices[i]\n",
    "            elif prices[i] - buy > profit:\n",
    "                profit = prices[i] - buy\n",
    "        return profit\n",
    "    \n",
    "\n",
    "def run(set):\n",
    "    solution = Solution()\n",
    "    result = solution.maxProfit(set)\n",
    "    print(result)\n",
    "\n",
    "run([7,6,4,3,1]) # => 0\n",
    "run([7,1,5,3,6,4]) # => 5\n",
    "run([1]) # => 0\n",
    "run([2,1,2,1,0,1,2]) #=>  2\n",
    "run([2,4,1]) #=> 2\n",
    "run([3,2,6,5,0,3]) #=> 4\n",
    "run(large_price_sample) #=> 999"
   ]
  }
 ],
 "metadata": {
  "kernelspec": {
   "display_name": "leetcode-wb",
   "language": "python",
   "name": "python3"
  },
  "language_info": {
   "codemirror_mode": {
    "name": "ipython",
    "version": 3
   },
   "file_extension": ".py",
   "mimetype": "text/x-python",
   "name": "python",
   "nbconvert_exporter": "python",
   "pygments_lexer": "ipython3",
   "version": "3.10.10"
  }
 },
 "nbformat": 4,
 "nbformat_minor": 2
}
