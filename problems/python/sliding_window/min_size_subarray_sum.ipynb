{
 "cells": [
  {
   "cell_type": "markdown",
   "metadata": {},
   "source": [
    "# Minimum Size Subarray Sum\n",
    "`Medium` | [Leetcode Link](https://leetcode.com/problems/minimum-size-subarray-sum/description/)\n",
    "\n",
    "## Description\n",
    "Given an array of positive integers nums and a positive integer target, return the _minimal length_ of a subarray whose sum is greater than or equal to target. If there is no such subarray, return 0 instead.\n",
    "\n",
    "## Example 1:\n",
    "Input: target = 7, nums = [2,3,1,2,4,3]\\\n",
    "Output: 2\\\n",
    "Explanation: The subarray [4,3] has the minimal length under the problem constraint.\n",
    "\n",
    "## Example 2:\n",
    "Input: target = 4, nums = [1,4,4]\\\n",
    "Output: 1\n",
    "\n",
    "## Example 3:\n",
    "Input: target = 11, nums = [1,1,1,1,1,1,1,1]\\\n",
    "Output: 0\n",
    "\n",
    "## Constraints:\n",
    "`1 <= target <= 109`\n",
    "`1 <= nums.length <= 105`\n",
    "`1 <= nums[i] <= 104`\n",
    "\n",
    "## Follow up\n",
    "If you have figured out the O(n) solution, try coding another solution of which the time complexity is O(n log(n)).\n"
   ]
  },
  {
   "cell_type": "code",
   "execution_count": null,
   "metadata": {},
   "outputs": [
    {
     "name": "stdout",
     "output_type": "stream",
     "text": [
      "4 4\n",
      "3\n"
     ]
    }
   ],
   "source": [
    "class Solution(object):\n",
    "\tdef minSubArrayLen(self, target, nums):\n",
    "\t\t\"\"\"\n",
    "\t\t:type target: int\n",
    "\t\t:type nums: List[int]\n",
    "\t\t:rtype: int\n",
    "\t\t\"\"\"\n",
    "\t\t\n",
    "\t\tsub = []\n",
    "\t\tfor i in range(nums):\n",
    "\t\t\tcurrent_sum = 0\n",
    "\t\t\tincrement = 2\n",
    "\t\t\tsums = []\n",
    "\t\t\tfor num in nums[i:(i + increment)]:\n",
    "\t\t\t\tcurrent_sum += num\n",
    "\t\t\t\tif current_sum < target: \n",
    "\t\t\t\t\tsums.append()\n",
    "\t\t\t\t\tbreak\n",
    "\t\t\t\n",
    "\t\t\t\n",
    "\t\t\t\t\t\n",
    "\t\t\n",
    "\n",
    "\n",
    "samples = [\n",
    "\t[7, [2,3,1,2,4,3]],\n",
    "\t# [4, [1,4,4]],\n",
    "\t# [11, [1,1,1,1,1,1,1,1]]\n",
    "]\n",
    "\n",
    "for sample in samples:\n",
    "\ttarget, nums = sample\n",
    "\tsolution = Solution()\n",
    "\tresult = solution.minSubArrayLen(target, nums)\n",
    "\tprint(result)"
   ]
  }
 ],
 "metadata": {
  "kernelspec": {
   "display_name": "leetcode-wb",
   "language": "python",
   "name": "python3"
  },
  "language_info": {
   "codemirror_mode": {
    "name": "ipython",
    "version": 3
   },
   "file_extension": ".py",
   "mimetype": "text/x-python",
   "name": "python",
   "nbconvert_exporter": "python",
   "pygments_lexer": "ipython3",
   "version": "3.10.10"
  }
 },
 "nbformat": 4,
 "nbformat_minor": 2
}
