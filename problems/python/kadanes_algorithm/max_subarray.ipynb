{
 "cells": [
  {
   "cell_type": "markdown",
   "metadata": {},
   "source": [
    "# Max Subarray\n",
    "`Medium` | [Leetcode Link](https://leetcode.com/problems/maximum-subarray/description/)\n",
    "\n",
    "## Description\n",
    "Given an integer array nums, find the subarray with the largest sum, and return its sum.\n",
    "\n",
    "## Example 1:\n",
    "Input: `nums = [-2,1,-3,4,-1,2,1,-5,4]`\n",
    "Output: 6\n",
    "Explanation: The subarray [4,-1,2,1] has the largest sum 6.\n",
    "\n",
    "## Example 2:\n",
    "Input: `nums = [1]`\n",
    "Output: 1\n",
    "Explanation: The subarray [1] has the largest sum 1.\n",
    "\n",
    "## Example 3:\n",
    "Input: `nums = [5,4,-1,7,8]`\n",
    "Output: 23\n",
    "Explanation: The subarray [5,4,-1,7,8] has the largest sum 23.\n",
    "\n",
    "## Constraints:\n",
    "\n",
    "`1 <= nums.length <= 105`\\\n",
    "`-104 <= nums[i] <= 104`\n",
    "\n",
    "## Follow up\n",
    "If you have figured out the O(n) solution, try coding another solution using the divide and conquer approach, which is more subtle."
   ]
  },
  {
   "cell_type": "code",
   "execution_count": null,
   "metadata": {},
   "outputs": [
    {
     "name": "stdout",
     "output_type": "stream",
     "text": [
      "6\n",
      "-1\n",
      "23\n"
     ]
    }
   ],
   "source": [
    "class Solution(object):\n",
    "\tdef maxSubArray(self, nums):\n",
    "\t\t\"\"\"\n",
    "\t\t:type nums: List[int]\n",
    "\t\t:rtype: int\n",
    "\t\t\"\"\"\n",
    "\t\tbest_sum = []\n",
    "\t\tcurrent_sum = 0\n",
    "\t\tfor x in nums:\n",
    "\t\t\tcurrent_sum = max(x, current_sum + x)\n",
    "\t\t\tbest_sum.append(current_sum)\n",
    "\t\treturn max(best_sum)\n",
    "\n",
    "\n",
    "samples = [\n",
    "\t[-2,1,-3,4,-1,2,1,-5,4],\n",
    "\t[1],\n",
    "\t[5,4,-1,7,8]\n",
    "]\n",
    "\n",
    "for sample in samples:\n",
    "\tsolution = Solution()\n",
    "\tresult = solution.maxSubArray(sample)\n",
    "\tprint(result)"
   ]
  }
 ],
 "metadata": {
  "kernelspec": {
   "display_name": "leetcode-wb",
   "language": "python",
   "name": "python3"
  },
  "language_info": {
   "codemirror_mode": {
    "name": "ipython",
    "version": 3
   },
   "file_extension": ".py",
   "mimetype": "text/x-python",
   "name": "python",
   "nbconvert_exporter": "python",
   "pygments_lexer": "ipython3",
   "version": "3.10.10"
  }
 },
 "nbformat": 4,
 "nbformat_minor": 2
}
