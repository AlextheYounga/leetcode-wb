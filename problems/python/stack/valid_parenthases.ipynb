{
 "cells": [
  {
   "cell_type": "markdown",
   "metadata": {},
   "source": [
    "# Valid Parenthases\n",
    "`Easy` | [Leetcode Link](https://leetcode.com/problems/valid-parentheses/description)\n",
    "\n",
    "## Description\n",
    "Given a string `s` containing just the characters `'('`, `')'`, `'{'`, `'}'`, `'['` and `']'`, determine if the input string is valid.\n",
    "\n",
    "An input string is valid if:\n",
    "- Open brackets must be closed by the same type of brackets.\n",
    "- Open brackets must be closed in the correct order.\n",
    "- Every close bracket has a corresponding open bracket of the same type.\n",
    "\n",
    "## Example 1:\n",
    "Input: s = \"()\"\\\n",
    "Output: true\n",
    "\n",
    "## Example 2:\n",
    "Input: s = \"()[]{}\"\\\n",
    "Output: true\n",
    "\n",
    "## Example 3:\n",
    "Input: s = \"(]\"\\\n",
    "Output: false\n",
    "\n",
    "## Example 4:\n",
    "Input: s = \"([])\"\\\n",
    "Output: true\n",
    "\n",
    "## Constraints:\n",
    "- `1 <= s.length <= 104`\n",
    "- `s` consists of parentheses only `'()[]{}'`."
   ]
  },
  {
   "cell_type": "code",
   "execution_count": null,
   "metadata": {},
   "outputs": [
    {
     "name": "stdout",
     "output_type": "stream",
     "text": [
      "True\n",
      "True\n",
      "False\n",
      "True\n",
      "False\n",
      "False\n",
      "False\n",
      "False\n"
     ]
    }
   ],
   "source": [
    "class Solution(object):\n",
    "\tdef isValid(self, s):\n",
    "\t\t\"\"\"\n",
    "\t\t:type s: str\n",
    "\t\t:rtype: bool\n",
    "\t\t\"\"\"\n",
    "\t\to = ['(', '{', '[']\n",
    "\t\tc = [')', '}',  ']']\n",
    "\t\topened = []\n",
    "\t\tfor char in s:\n",
    "\t\t\tif char in o:\n",
    "\t\t\t\topened.append(char)\n",
    "\t\t\tif char in c:\n",
    "\t\t\t\topen_char = o[c.index(char)]\n",
    "\t\t\t\t# If not one opened\n",
    "\t\t\t\tif open_char not in opened:\n",
    "\t\t\t\t\treturn False\n",
    "\t\t\t\tif opened[-1] != open_char:\n",
    "\t\t\t\t\t# Not in the correct order\n",
    "\t\t\t\t\treturn False\n",
    "\t\t\t\t# Closing\n",
    "\t\t\t\topened.pop()\n",
    "\n",
    "\t\treturn len(opened) == 0\n",
    "\t\t\t\n",
    "\n",
    "\n",
    "\n",
    "samples = [\n",
    "\t\"()\",\n",
    "\t\"()[]{}\",\n",
    "\t\"(]\",\n",
    "\t\"([])\",\n",
    "\t\"(((()}))\",\n",
    "\t\"((\",\n",
    "\t\"([)]\",\n",
    "\t\"[([]])\"\n",
    "]\n",
    "\n",
    "for sample in samples:\n",
    "\tsolution = Solution()\n",
    "\tresult = solution.isValid(sample)\n",
    "\tprint(result)"
   ]
  }
 ],
 "metadata": {
  "kernelspec": {
   "display_name": "leetcode-wb",
   "language": "python",
   "name": "python3"
  },
  "language_info": {
   "codemirror_mode": {
    "name": "ipython",
    "version": 3
   },
   "file_extension": ".py",
   "mimetype": "text/x-python",
   "name": "python",
   "nbconvert_exporter": "python",
   "pygments_lexer": "ipython3",
   "version": "3.10.10"
  }
 },
 "nbformat": 4,
 "nbformat_minor": 2
}
