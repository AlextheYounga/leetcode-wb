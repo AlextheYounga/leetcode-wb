{
 "cells": [
  {
   "cell_type": "markdown",
   "metadata": {},
   "source": [
    "# Jump Game II\n",
    "`Medium` | [Leetcode Link](https://leetcode.com/problems/jump-game-ii/description/)\n",
    "\n",
    "## Description\n",
    "You are given a 0-indexed array of integers nums of length n. You are initially positioned at nums[0].\n",
    "\n",
    "Each element nums[i] represents the maximum length of a forward jump from index i. \n",
    "\n",
    "In other words, if you are at nums[i], you can jump to any nums[i + j] where:\n",
    "\n",
    "`0 <= j <= nums[i]` and\n",
    "`i + j < n`\n",
    "\n",
    "Return the minimum number of jumps to reach `nums[n - 1]`. The test cases are generated such that you can reach `nums[n - 1]`.wise.\n",
    "\n",
    "**Example 1:**\n",
    "Input: nums = `[2,3,1,1,4]`\n",
    "Output: 2\n",
    "Explanation: The minimum number of jumps to reach the last index is 2. Jump 1 step from index 0 to 1, then 3 steps to the last index.\n",
    "\n",
    "**Example 2:**\n",
    "Input: nums = `[2,3,0,1,4]`\n",
    "Output: 2\n",
    " \n",
    "**Constraints:**\n",
    "`1 <= nums.length <= 104`\n",
    "`0 <= nums[i] <= 105`"
   ]
  },
  {
   "cell_type": "code",
   "execution_count": null,
   "metadata": {},
   "outputs": [
    {
     "name": "stdout",
     "output_type": "stream",
     "text": [
      "3\n",
      "0\n",
      "Input: [2, 3, 1, 1, 4], Output: True\n",
      "3\n",
      "0\n",
      "Input: [2, 3, 0, 1, 4], Output: True\n"
     ]
    }
   ],
   "source": [
    "class Solution(object):\n",
    "\tdef jump(self, nums):\n",
    "\t\t\"\"\"\n",
    "\t\t:type nums: List[int]\n",
    "\t\t:rtype: int\n",
    "\t\t\"\"\"\n",
    "\t\tlast_index = len(nums) - 1\n",
    "\t\tgoal = last_index\n",
    "\t\tsequences = []\n",
    "\t\tfor i in range(last_index -1, -1, -1): # Start at the end and skip the last, step -1 and end at 0\n",
    "\n",
    "\t\t\t# def check_paths():\n",
    "\t\t\t\t\n",
    "\n",
    "\t\t\tprev_val = nums[i + 1]\n",
    "\t\t\tjump_val = prev_val + 1\n",
    "\t\t\tif jump_val >= goal:\n",
    "\t\t\t\tprint(i)\n",
    "\t\t\t\tgoal = i\n",
    "\t\treturn goal == 0\n",
    "\n",
    "samples = [\n",
    "\t# [0,1],\n",
    "\t# [1,2],\n",
    "\t# [2,0],\n",
    "\t[2,3,1,1,4],\n",
    "\t[2,3,0,1,4],\n",
    "\t[1, 2, 2, 1, 2, 1, 2, 1, 2, 1, 2, 1, 2, 1, 2, 1, 2, 2, 2, 2, 1]\n",
    "]\n",
    "\n",
    "for sample in samples:\n",
    "\ts = Solution()\n",
    "\tresult = s.jump(sample)\n",
    "\tprint(f\"Input: {sample}, Output: {result}\")"
   ]
  }
 ],
 "metadata": {
  "kernelspec": {
   "display_name": "leetcode-wb",
   "language": "python",
   "name": "python3"
  },
  "language_info": {
   "codemirror_mode": {
    "name": "ipython",
    "version": 3
   },
   "file_extension": ".py",
   "mimetype": "text/x-python",
   "name": "python",
   "nbconvert_exporter": "python",
   "pygments_lexer": "ipython3",
   "version": "3.10.10"
  }
 },
 "nbformat": 4,
 "nbformat_minor": 2
}
