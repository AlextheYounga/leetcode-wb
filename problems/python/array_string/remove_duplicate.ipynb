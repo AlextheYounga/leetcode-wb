{
 "cells": [
  {
   "cell_type": "markdown",
   "metadata": {},
   "source": [
    "# Remove Duplicates from Sorted Array\n",
    "`Easy` | [Leetcode Link](https://leetcode.com/problems/remove-duplicates-from-sorted-array)\n",
    "\n",
    "## Description\n",
    "Given an integer array nums sorted in non-decreasing order, remove the duplicates in-place such that each unique element appears only once. The relative order of the elements should be kept the same. Then return the number of unique elements in nums.\n",
    "\n",
    "Consider the number of unique elements of nums to be k, to get accepted, you need to do the following things:\n",
    "\n",
    "Change the array nums such that the first k elements of nums contain the unique elements in the order they were present in nums initially. The remaining elements of nums are not important as well as the size of nums.\n",
    "Return k.\n",
    "Custom Judge:\n",
    "\n",
    "The judge will test your solution with the following code:\n",
    "\n",
    "```python\n",
    "int[] nums = [...]; // Input array\n",
    "int[] expectedNums = [...]; // The expected answer with correct length\n",
    "\n",
    "int k = removeDuplicates(nums); // Calls your implementation\n",
    "\n",
    "assert k == expectedNums.length;\n",
    "for (int i = 0; i < k; i++) {\n",
    "    assert nums[i] == expectedNums[i];\n",
    "}\n",
    "```\n",
    "\n",
    "If all assertions pass, then your solution will be accepted.\n",
    "\n",
    "Example 1:\n",
    "\n",
    "Input: `nums = [1,1,2]`\n",
    "Output: `2, nums = [1,2,_]`\n",
    "Explanation: Your function should return k = 2, with the first two elements of nums being 1 and 2 respectively.\n",
    "It does not matter what you leave beyond the returned k (hence they are underscores).\n",
    "\n",
    "Example 2:\n",
    "Input: `nums = [0,0,1,1,1,2,2,3,3,4]`\n",
    "Output: `5, nums = [0,1,2,3,4,_,_,_,_,_]`\n",
    "Explanation: Your function should return k = 5, with the first five elements of nums being 0, 1, 2, 3, and 4 respectively.\n",
    "It does not matter what you leave beyond the returned k (hence they are underscores).\n",
    " \n",
    "\n",
    "Constraints:\n",
    "\n",
    "`1 <= nums.length <= 3 * 104`\n",
    "`-100 <= nums[i] <= 100`\n",
    "nums is sorted in non-decreasing order."
   ]
  },
  {
   "cell_type": "code",
   "execution_count": 150,
   "metadata": {},
   "outputs": [],
   "source": [
    "# First Strategy\n",
    "# STATUS: FAILED\n",
    "\n",
    "# This does not seem possible as the index changes each iteration\n",
    "class Solution(object):\n",
    "    def removeDuplicates(self, nums):\n",
    "        \"\"\"\n",
    "        :type nums: List[int]\n",
    "        :rtype: int\n",
    "        \"\"\"\n",
    "        for i, n in enumerate(nums):\n",
    "            if (i == len(nums) - 1): break\n",
    "            print(f\"i: {i} n: {n} next: {nums[i + 1]}, comp: {n == nums[i + 1]} nums: {nums}\")\n",
    "            if (n == nums[i + 1]):\n",
    "                del nums[i]\n",
    "\n",
    "        return len(nums)"
   ]
  },
  {
   "cell_type": "code",
   "execution_count": 151,
   "metadata": {},
   "outputs": [
    {
     "name": "stdout",
     "output_type": "stream",
     "text": [
      "5 [0, 1, 2, 3, 4]\n"
     ]
    }
   ],
   "source": [
    "# Second Strategy\n",
    "# STATUS: SUCCESS!\n",
    "\n",
    "class Solution(object):\n",
    "    def removeDuplicates(self, nums):\n",
    "        \"\"\"\n",
    "        :type nums: List[int]\n",
    "        :rtype: int\n",
    "        \"\"\"\n",
    "        temp = []\n",
    "\n",
    "        for i, n in enumerate(nums):\n",
    "            if i == 0: continue\n",
    "            if n == nums[i - 1]:\n",
    "                temp.append(n)\n",
    "        \n",
    "        for t in temp:\n",
    "            nums.remove(t)\n",
    "\n",
    "        return len(nums)\n",
    "\n",
    "\n",
    "# nums = [1,1,2]\n",
    "nums = [0,0,1,1,1,2,2,3,3,4]\n",
    "\n",
    "solution = Solution()\n",
    "\n",
    "result = solution.removeDuplicates(nums)\n",
    "\n",
    "print(result, nums)"
   ]
  },
  {
   "cell_type": "markdown",
   "metadata": {},
   "source": [
    "### Best \"Accepted\" Solution\n",
    "Dumbass solution, does not actually remove shit\n",
    "\n",
    "```python\n",
    "class Solution:\n",
    "    def removeDuplicates(self, nums) -> int:\n",
    "        j = 1\n",
    "        for i in range(1, len(nums)):\n",
    "            if nums[i] != nums[i - 1]:\n",
    "                nums[j] = nums[i]\n",
    "                j += 1\n",
    "        return j\n",
    "    \n",
    "nums = [0,0,1,1,1,2,2,3,3,4]\n",
    "\n",
    "solution = Solution()\n",
    "\n",
    "result = solution.removeDuplicates(nums)\n",
    "\n",
    "print(result, nums)\n",
    "```"
   ]
  }
 ],
 "metadata": {
  "kernelspec": {
   "display_name": "leetcode-wb",
   "language": "python",
   "name": "python3"
  },
  "language_info": {
   "codemirror_mode": {
    "name": "ipython",
    "version": 3
   },
   "file_extension": ".py",
   "mimetype": "text/x-python",
   "name": "python",
   "nbconvert_exporter": "python",
   "pygments_lexer": "ipython3",
   "version": "3.10.10"
  }
 },
 "nbformat": 4,
 "nbformat_minor": 2
}
