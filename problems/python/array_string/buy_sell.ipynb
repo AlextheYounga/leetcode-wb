{
 "cells": [
  {
   "cell_type": "markdown",
   "metadata": {},
   "source": [
    "# Best Time to Buy Sell Stock\n",
    "`Easy` | [Leetcode Link](https://leetcode.com/problems/best-time-to-buy-and-sell-stock)\n",
    "\n",
    "## Description\n",
    "You are given an array prices where prices[i] is the price of a given stock on the ith day.\n",
    "You want to maximize your profit by choosing a single day to buy one stock and choosing a different day in the future to sell that stock.\n",
    "Return the maximum profit you can achieve from this transaction. If you cannot achieve any profit, return 0.\n",
    "\n",
    "Example 1:\n",
    "\n",
    "Input: `prices = [7,1,5,3,6,4]`\n",
    "Output: 5\n",
    "Explanation: Buy on day 2 (price = 1) and sell on day 5 (price = 6), profit = 6-1 = 5.\n",
    "Note that buying on day 2 and selling on day 1 is not allowed because you must buy before you sell.\n",
    "Example 2:\n",
    "\n",
    "Input: `prices = [7,6,4,3,1]`\n",
    "Output: 0\n",
    "Explanation: In this case, no transactions are done and the max profit = 0.\n",
    " \n",
    "\n",
    "Constraints:\n",
    "\n",
    "`1 <= prices.length <= 105`\n",
    "`0 <= prices[i] <= 104`"
   ]
  },
  {
   "cell_type": "code",
   "execution_count": null,
   "metadata": {},
   "outputs": [
    {
     "name": "stdout",
     "output_type": "stream",
     "text": [
      "1 4\n",
      "0\n"
     ]
    }
   ],
   "source": []
  },
  {
   "cell_type": "code",
   "execution_count": null,
   "metadata": {},
   "outputs": [
    {
     "name": "stdout",
     "output_type": "stream",
     "text": [
      "0\n",
      "5\n",
      "0\n",
      "2\n",
      "2\n",
      "4\n",
      "999\n"
     ]
    }
   ],
   "source": [
    "# STATUS: CHEATING USING GEEKS FOR GEEKS OR SOMETHING\n",
    "# Something I found on the internet. Man this sucks hard.\n",
    "\n",
    "import json\n",
    "large_price_sample = json.load(open('data/prices.json'))\n",
    "\n",
    "\n",
    "class Solution(object):\n",
    "    def maxProfit(self, prices):\n",
    "        \"\"\"\n",
    "        :type prices: List[int]\n",
    "        :rtype: int\n",
    "        \"\"\"\n",
    "        n = len(prices)\n",
    "        buy = prices[0]\n",
    "        max_profit = 0\n",
    "        for i in range(1, n):\n",
    "            # Checking for lower buy value\n",
    "            if (buy > prices[i]):\n",
    "                buy = prices[i]\n",
    "            # Checking for higher profit\n",
    "            elif (prices[i] - buy > max_profit):\n",
    "                max_profit = prices[i] - buy\n",
    "        return max_profit\n",
    "    \n",
    "\n",
    "def run(set):\n",
    "    solution = Solution()\n",
    "    result = solution.maxProfit(set)\n",
    "    print(result)\n",
    "\n",
    "run([7,6,4,3,1]) # => 0\n",
    "run([7,1,5,3,6,4]) # => 5\n",
    "run([1]) # => 0\n",
    "run([2,1,2,1,0,1,2]) #=>  2\n",
    "run([2,4,1]) #=> 2\n",
    "run([3,2,6,5,0,3]) #=> 4\n",
    "run(large_price_sample) #=> 999\n"
   ]
  },
  {
   "cell_type": "code",
   "execution_count": 2,
   "metadata": {},
   "outputs": [
    {
     "name": "stdout",
     "output_type": "stream",
     "text": [
      "0\n",
      "5\n",
      "0\n",
      "2\n",
      "2\n",
      "4\n",
      "999\n"
     ]
    }
   ],
   "source": [
    "# Best Solution\n",
    "\n",
    "class Solution:\n",
    "    def maxProfit(self, prices):\n",
    "        buy = prices[0]\n",
    "        profit = 0\n",
    "        for i in range(1, len(prices)):\n",
    "            if prices[i] < buy:\n",
    "                buy = prices[i]\n",
    "            elif prices[i] - buy > profit:\n",
    "                profit = prices[i] - buy\n",
    "        return profit\n",
    "    \n",
    "\n",
    "def run(set):\n",
    "    solution = Solution()\n",
    "    result = solution.maxProfit(set)\n",
    "    print(result)\n",
    "\n",
    "run([7,6,4,3,1]) # => 0\n",
    "run([7,1,5,3,6,4]) # => 5\n",
    "run([1]) # => 0\n",
    "run([2,1,2,1,0,1,2]) #=>  2\n",
    "run([2,4,1]) #=> 2\n",
    "run([3,2,6,5,0,3]) #=> 4\n",
    "run(large_price_sample) #=> 999"
   ]
  },
  {
   "cell_type": "markdown",
   "metadata": {},
   "source": [
    "## Best Solution\n",
    "\n",
    "```python\n",
    "class Solution:\n",
    "    def maxProfit(self, prices):\n",
    "        buy = prices[0]\n",
    "        profit = 0\n",
    "        for i in range(1, len(prices)):\n",
    "            if prices[i] < buy:\n",
    "                buy = prices[i]\n",
    "            elif prices[i] - buy > profit:\n",
    "                profit = prices[i] - buy\n",
    "        return profit\n",
    "    \n",
    "\n",
    "def run(set):\n",
    "    solution = Solution()\n",
    "    result = solution.maxProfit(set)\n",
    "    print(result)\n",
    "\n",
    "run([7,6,4,3,1]) # => 0\n",
    "run([7,1,5,3,6,4]) # => 5\n",
    "run([1]) # => 0\n",
    "run([2,1,2,1,0,1,2]) #=>  2\n",
    "run([2,4,1]) #=> 2\n",
    "run([3,2,6,5,0,3]) #=> 4\n",
    "run(large_price_sample) #=> 999\n",
    "```"
   ]
  }
 ],
 "metadata": {
  "kernelspec": {
   "display_name": "leetcode-wb",
   "language": "python",
   "name": "python3"
  },
  "language_info": {
   "codemirror_mode": {
    "name": "ipython",
    "version": 3
   },
   "file_extension": ".py",
   "mimetype": "text/x-python",
   "name": "python",
   "nbconvert_exporter": "python",
   "pygments_lexer": "ipython3",
   "version": "3.10.10"
  }
 },
 "nbformat": 4,
 "nbformat_minor": 2
}
