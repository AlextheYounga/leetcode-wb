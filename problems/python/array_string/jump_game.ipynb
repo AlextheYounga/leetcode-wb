{
 "cells": [
  {
   "cell_type": "markdown",
   "metadata": {},
   "source": [
    "# Jump Game\n",
    "`Medium` | [Leetcode Link](https://leetcode.com/problems/jump-game/description/)\n",
    "\n",
    "## Description\n",
    "You are given an integer array `nums`. You are initially positioned at the array's **first index**, and each element in the array represents your maximum jump length at that position.\n",
    "\n",
    "Return `true` if you can reach the last index, or `false` otherwise.\n",
    "\n",
    "**Example 1:**\n",
    "Input: nums = `[2,3,1,1,4]`\n",
    "Output: `true`\n",
    "Explanation: Jump 1 step from index 0 to 1, then 3 steps to the last index.\n",
    "\n",
    "**Example 2:**\n",
    "Input: nums = `[3,2,1,0,4]`\n",
    "Output: `false`\n",
    "Explanation: You will always arrive at index 3 no matter what. Its maximum jump length is 0, which makes it impossible to reach the last index.\n",
    " \n",
    "\n",
    "**Constraints:**\n",
    "`1 <= nums.length <= 104`\n",
    "`0 <= nums[i] <= 105`"
   ]
  },
  {
   "cell_type": "code",
   "execution_count": null,
   "metadata": {},
   "outputs": [
    {
     "name": "stdout",
     "output_type": "stream",
     "text": [
      "Input: [0, 1], Output: False\n",
      "Input: [1, 2], Output: True\n",
      "Input: [2, 0], Output: True\n",
      "Input: [2, 3, 1, 1, 4], Output: True\n",
      "Input: [3, 2, 1, 0, 4], Output: False\n"
     ]
    }
   ],
   "source": [
    "class Solution(object):\n",
    "\tdef canJump(self, nums):\n",
    "\t\t\"\"\"\n",
    "\t\t:type nums: List[int]\n",
    "\t\t:rtype: bool\n",
    "\t\t\"\"\"\n",
    "\t\t# We should traverse in reverse. \n",
    "\t\t# Why? Why not recursion going forward? \n",
    "\t\t# There may be many permutations of values which arrive at the last index, but we ONLY NEED TO FIND ONE.\n",
    "\t\tlast_index = len(nums) - 1\n",
    "\t\tgoal = last_index\n",
    "\t\tfor i in range(last_index - 1, -1, -1): # Start at the end and skip the last, step -1 and end at 0\n",
    "\t\t\tjump_val = nums[i] + i\n",
    "\t\t\tif jump_val >= goal:\n",
    "\t\t\t\tgoal = i\n",
    "\t\treturn goal == 0\n",
    "\n",
    "\tclass Solution:\n",
    "\t\tdef jump(self, nums):\n",
    "\t\t\tjumps, currentEnd, farthest = 0, 0, 0\n",
    "\t\t\tfor i in range(len(nums) - 1):\n",
    "\t\t\t\tfarthest = max(farthest, i + nums[i])\n",
    "\t\t\t\tif i == currentEnd:\n",
    "\t\t\t\t\tjumps += 1\n",
    "\t\t\t\t\tcurrentEnd = farthest\n",
    "\t\t\treturn jumps\n",
    "\n",
    "samples = [\n",
    "\t[0,1],\n",
    "\t[1,2],\n",
    "\t[2,0],\n",
    "\t[2,3,1,1,4],\n",
    "\t[3,2,1,0,4]\n",
    "]\n",
    "\n",
    "for sample in samples:\n",
    "\ts = Solution()\n",
    "\tresult = s.canJump(sample)\n",
    "\tprint(f\"Input: {sample}, Output: {result}\")"
   ]
  }
 ],
 "metadata": {
  "kernelspec": {
   "display_name": "leetcode-wb",
   "language": "python",
   "name": "python3"
  },
  "language_info": {
   "codemirror_mode": {
    "name": "ipython",
    "version": 3
   },
   "file_extension": ".py",
   "mimetype": "text/x-python",
   "name": "python",
   "nbconvert_exporter": "python",
   "pygments_lexer": "ipython3",
   "version": "3.10.10"
  }
 },
 "nbformat": 4,
 "nbformat_minor": 2
}
