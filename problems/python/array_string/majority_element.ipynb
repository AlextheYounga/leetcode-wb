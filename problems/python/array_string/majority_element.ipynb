{
 "cells": [
  {
   "cell_type": "markdown",
   "metadata": {},
   "source": [
    "# Majority Element\n",
    "`Easy` | [Leetcode Link](https://leetcode.com/problems/majority-element/)\n",
    "\n",
    "## Description\n",
    "Given an array nums of size n, return the majority element.\n",
    "\n",
    "The majority element is the element that appears more than ⌊n / 2⌋ times. You may assume that the majority element always exists in the array.\n",
    "\n",
    "Example 1:\n",
    "\n",
    "Input: `nums = [3,2,3]`\n",
    "Output: 3\n",
    "\n",
    "Example 2:\n",
    "\n",
    "Input: `nums = [2,2,1,1,1,2,2]`\n",
    "Output: 2 \n",
    "\n",
    "Constraints:\n",
    "\n",
    "n == nums.length\n",
    "1 <= n <= 5 * 104\n",
    "-109 <= nums[i] <= 109\n",
    " \n",
    "\n",
    "Follow-up: Could you solve the problem in linear time and in O(1) space?"
   ]
  },
  {
   "cell_type": "code",
   "execution_count": 4,
   "metadata": {},
   "outputs": [
    {
     "name": "stdout",
     "output_type": "stream",
     "text": [
      "3\n"
     ]
    }
   ],
   "source": [
    "# First Strategy \n",
    "# STATUS: SUCCESS! \n",
    "\n",
    "class Solution(object):\n",
    "    def majorityElement(self, nums):\n",
    "        \"\"\"\n",
    "        :type nums: List[int]\n",
    "        :rtype: int\n",
    "        \"\"\"\n",
    "        m = len(nums) / 2\n",
    "        for n in nums:\n",
    "            if (nums.count(n) > m): return n\n",
    "\n",
    "nums = [3,2,3]  \n",
    "# nums = [2,2,1,1,1,2,2]\n",
    "solution = Solution()\n",
    "result = solution.majorityElement(nums)\n",
    "\n",
    "print(result)"
   ]
  },
  {
   "cell_type": "code",
   "execution_count": 7,
   "metadata": {},
   "outputs": [
    {
     "name": "stdout",
     "output_type": "stream",
     "text": [
      "nums: [1, 1, 1, 2, 2, 2, 2] n: 7 math: 3\n"
     ]
    }
   ],
   "source": [
    "# Best Solution\n",
    "# Very clever\n",
    "\"\"\"\n",
    "The code begins by sorting the array nums in non-decreasing order using the sort function from the C++ Standard Library. \n",
    "This rearranges the elements such that identical elements are grouped together.\n",
    "Once the array is sorted, the majority element will always be present at index n/2, where n is the size of the array.\n",
    "This is because the majority element occurs more than n/2 times, and when the array is sorted, it will occupy the middle position.\n",
    "\"\"\"\n",
    "\n",
    "class Solution:\n",
    "    def majorityElement(self, nums) -> int:\n",
    "        nums.sort() # increasing order\n",
    "        n = len(nums) # 7\n",
    "        return nums[n//2] # nums[3]\n",
    "    \n",
    "nums = [2,2,1,1,1,2,2]\n",
    "solution = Solution()\n",
    "result = solution.majorityElement(nums)\n"
   ]
  },
  {
   "cell_type": "markdown",
   "metadata": {},
   "source": [
    "## Best Solution\n",
    "### Very clever\n",
    "\n",
    "The code begins by sorting the array nums in non-decreasing order using the sort function from the C++ Standard Library. \n",
    "This rearranges the elements such that identical elements are grouped together.\n",
    "Once the array is sorted, the majority element will always be present at index n/2, where n is the size of the array.\n",
    "This is because the majority element occurs more than n/2 times, and when the array is sorted, it will occupy the middle position.\n",
    "\n",
    "```python\n",
    "class Solution:\n",
    "    def majorityElement(self, nums) -> int:\n",
    "        nums.sort() # increasing order\n",
    "        n = len(nums) # 7\n",
    "        return nums[n//2] # nums[3]\n",
    "    \n",
    "nums = [2,2,1,1,1,2,2]\n",
    "solution = Solution()\n",
    "result = solution.majorityElement(nums)\n",
    "```"
   ]
  }
 ],
 "metadata": {
  "kernelspec": {
   "display_name": "leetcode-wb",
   "language": "python",
   "name": "python3"
  },
  "language_info": {
   "codemirror_mode": {
    "name": "ipython",
    "version": 3
   },
   "file_extension": ".py",
   "mimetype": "text/x-python",
   "name": "python",
   "nbconvert_exporter": "python",
   "pygments_lexer": "ipython3",
   "version": "3.10.10"
  }
 },
 "nbformat": 4,
 "nbformat_minor": 2
}
