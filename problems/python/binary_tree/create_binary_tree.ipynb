{
 "cells": [
  {
   "cell_type": "markdown",
   "id": "363d388f",
   "metadata": {},
   "source": [
    "# Create Binary Tree\n",
    "\n",
    "This was not a LeetCode question. I needed to find the best way of creating a binary tree given a list. \n",
    "\n",
    "![Binary Tree](./img/tmp-tree.jpg)"
   ]
  },
  {
   "cell_type": "code",
   "execution_count": 250,
   "id": "f7da01cf",
   "metadata": {},
   "outputs": [],
   "source": [
    "class TreeNode:\n",
    "    def __init__(self, val=0, left=None, right=None):\n",
    "        self.val = val\n",
    "        self.left = left\n",
    "        self.right = right"
   ]
  },
  {
   "cell_type": "code",
   "execution_count": null,
   "id": "2c0d3e0f",
   "metadata": {},
   "outputs": [
    {
     "name": "stdout",
     "output_type": "stream",
     "text": [
      "3 9 20 None\n"
     ]
    }
   ],
   "source": [
    "# Binary Tress move from left to right\n",
    "\n",
    "# This was surprisingly difficult.\n",
    "# Problems I encountered along the way.\n",
    "# A normal for i in range doesn't work well here. It becomes too difficult to keep track of the pointers this way.\n",
    "# You also need some way to keep track of a previous item. I didn't think of the queue approach, I had to get a hint here.\n",
    "# I took some of what I learned from building a linked list and some of that did apply here.\n",
    "# The difference is that a single \"current\" pointer that moved forward didn't do the trick here - the queue is crucial. \n",
    "# With a linear linked list, you just need to know what the current and next one is, but you may need to go back in time here if the tree ends.\n",
    "\n",
    "root = [3,9,20,None,None,15,7]\n",
    "\n",
    "def to_binary_tree(root: list):\n",
    "\tif not root: return\n",
    "\thead = TreeNode(val=root.pop(0))\n",
    "\tqueue = [head]\n",
    "\n",
    "\twhile len(root) > 0: \n",
    "\t\tcurrent = queue.pop(0)\n",
    "\t\tif len(root) > 0:\n",
    "\t\t\tleftval=root.pop(0)\n",
    "\t\t\tcurrent.left = TreeNode(val=leftval) if leftval is not None else None\n",
    "\t\t\tqueue.append(current.left)\n",
    "\t\tif len(root) > 0:\n",
    "\t\t\trightval=root.pop(0)\n",
    "\t\t\tcurrent.right = TreeNode(val=rightval) if rightval is not None else None\n",
    "\t\t\tqueue.append(current.right)\n",
    "\t\tif len(queue) == 0: break\n",
    "\treturn head\n",
    "\n",
    "\n",
    "tree = to_binary_tree(root)\n",
    "print(tree.val, tree.left.val, tree.right.val, tree.right.left)\n"
   ]
  }
 ],
 "metadata": {
  "kernelspec": {
   "display_name": ".venv",
   "language": "python",
   "name": "python3"
  },
  "language_info": {
   "codemirror_mode": {
    "name": "ipython",
    "version": 3
   },
   "file_extension": ".py",
   "mimetype": "text/x-python",
   "name": "python",
   "nbconvert_exporter": "python",
   "pygments_lexer": "ipython3",
   "version": "3.13.3"
  }
 },
 "nbformat": 4,
 "nbformat_minor": 5
}
