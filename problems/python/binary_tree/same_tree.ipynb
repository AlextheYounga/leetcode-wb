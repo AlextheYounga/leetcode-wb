{
 "cells": [
  {
   "cell_type": "markdown",
   "id": "55dee413",
   "metadata": {},
   "source": [
    "# Same Tree\n",
    "`Easy` | [Leetcode Link](https://leetcode.com/problems/same-tree/description/?envType=study-plan-v2&envId=top-interview-150)\n",
    "\n",
    "## Description\n",
    "Given the roots of two binary trees p and q, write a function to check if they are the same or not.\n",
    "\n",
    "Two binary trees are considered the same if they are structurally identical, and the nodes have the same value.\n",
    "\n",
    "## Example 1:\n",
    "![Example1](./img/same_tree_1.jpg)\n",
    "Input: `p = [1,2,3], q = [1,2,3]`\n",
    "Output: [1,1,2,3,4,4]\n",
    "\n",
    "## Example 2:\n",
    "![Example2](./img/same_tree_2.jpg)\n",
    "Input: `lp = [1,2], q = [1,null,2]`\n",
    "Output: []\n",
    "\n",
    "## Example 3:\n",
    "![Example3](./img/same_tree_3.jpg)\n",
    "Input: `p = [1,2,1], q = [1,1,2]`\n",
    "Output: [0]"
   ]
  },
  {
   "cell_type": "code",
   "execution_count": null,
   "id": "b2067986",
   "metadata": {},
   "outputs": [],
   "source": [
    "from typing import Optional\n",
    "\n",
    "class TreeNode:\n",
    "    def __init__(self, val=0, left=None, right=None):\n",
    "        self.val = val\n",
    "        self.left = left\n",
    "        self.right = right\n",
    "\n",
    "\n",
    "def to_binary_tree(root: list):\n",
    "\tif not root: return\n",
    "\thead = TreeNode(val=root.pop(0))\n",
    "\tqueue = [head]\n",
    "\n",
    "\twhile len(root) > 0: \n",
    "\t\tcurrent = queue.pop(0)\n",
    "\t\tif len(root) > 0:\n",
    "\t\t\tleftval=root.pop(0)\n",
    "\t\t\tcurrent.left = TreeNode(val=leftval) if leftval is not None else None\n",
    "\t\t\tqueue.append(current.left)\n",
    "\t\tif len(root) > 0:\n",
    "\t\t\trightval=root.pop(0)\n",
    "\t\t\tcurrent.right = TreeNode(val=rightval) if rightval is not None else None\n",
    "\t\t\tqueue.append(current.right)\n",
    "\t\tif len(queue) == 0: break\n",
    "\treturn head"
   ]
  },
  {
   "cell_type": "code",
   "execution_count": null,
   "id": "250b4e87",
   "metadata": {},
   "outputs": [],
   "source": [
    "def isSameTree(self, p: Optional[TreeNode], q: Optional[TreeNode]) -> bool:\n",
    "\t\n",
    "\tif p and q:\n",
    "\t\tif p.val == q.val:\n",
    "\n",
    "\t\t\treturn True\n",
    "\treturn False\n",
    "\n",
    "samples = [\n",
    "\t[[1,2,3], [1,2,3]],\n",
    "\t[[1,2], [1,None,2]],\n",
    "\t[[1,2,1], [1,1,2]]\n",
    "]\n",
    "\n",
    "# for sample in samples:\n",
    "for sample in samples:\n",
    "\tp, q = samples[0]\n",
    "\tresult = isSameTree(to_binary_tree(p), to_binary_tree(q))\n",
    "\tprint(result)"
   ]
  }
 ],
 "metadata": {
  "language_info": {
   "name": "python"
  }
 },
 "nbformat": 4,
 "nbformat_minor": 5
}
