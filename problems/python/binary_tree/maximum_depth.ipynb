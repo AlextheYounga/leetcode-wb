{
 "cells": [
  {
   "cell_type": "markdown",
   "metadata": {},
   "source": [
    "# Maximum Depth of Binary Tree\n",
    "`Easy` | [Leetcode Link](https://leetcode.com/problems/maximum-depth-of-binary-tree/?envType=study-plan-v2&envId=top-interview-150)\n",
    "\n",
    "## Description\n",
    "Given the root of a binary tree, return its maximum depth. A binary tree's maximum depth is the number of nodes along the longest path from the root node down to the farthest leaf node.\n",
    "\n",
    "![Binary Tree](img/tmp-tree.jpg)\n",
    "\n",
    "### Example 1:\n",
    "Input: `root = [3,9,20,null,null,15,7]`\\\n",
    "Output: 3\n",
    "\n",
    "\n",
    "### Example 2:\n",
    "Input: `root = [1,null,2]`\\\n",
    "Output: 2\n",
    "\n",
    "\n",
    "### Constraints:\n",
    "- The number of nodes in the tree is in the range [0, 104].\n",
    "- `-100 <= Node.val <= 100`"
   ]
  },
  {
   "cell_type": "code",
   "execution_count": null,
   "metadata": {},
   "outputs": [
    {
     "name": "stdout",
     "output_type": "stream",
     "text": [
      "0 0\n",
      "0 0\n",
      "0 0\n",
      "1 1\n",
      "1 2\n",
      "3\n"
     ]
    }
   ],
   "source": [
    "# Hacking Leetcode by using dir() on it's TreeNode object\n",
    "# ['_tree_node_to_array', 'deserialize', 'has_cycle', 'left', 'right', 'serialize', 'test_cycle_in_tree', 'test_cycle_not_in_tree', 'val']\n",
    "\n",
    "# I had to look this one up because I've basically only ever had to make a Tree structure like twice. \n",
    "\n",
    "# Definition for a binary tree node.\n",
    "class TreeNode(object):\n",
    "\tdef __init__(self, val=0, left=None, right=None):\n",
    "\t\tself.val = val\n",
    "\t\tself.left = left\n",
    "\t\tself.right = right\n",
    "\n",
    "# [3,9,20,null,null,15,7]\n",
    "tree1 = TreeNode(3)\n",
    "tree1.left = TreeNode(9)\n",
    "tree1.right = TreeNode(20)\n",
    "tree1.right.left = TreeNode(15)\n",
    "tree1.right.right = TreeNode(7)\n",
    "\n",
    "# [1, None, 2]\n",
    "tree2 = TreeNode(1)\n",
    "tree2.right = TreeNode(2)\n",
    "\t\t\n",
    "\n",
    "class Solution(object):\n",
    "\tdef maxDepth(self, root):\n",
    "\t\t\"\"\"\n",
    "\t\t:type root: Optional[TreeNode]\n",
    "\t\t:rtype: int\n",
    "\t\t\"\"\"\n",
    "\t\t# Null node has 0 depth.\n",
    "\t\tif root == None:\n",
    "\t\t\treturn 0\n",
    "\n",
    "\t\t# Get the depth of the left and right subtree \n",
    "\t\t# using recursion.\n",
    "\t\tleftDepth = self.maxDepth(root.left)\n",
    "\t\trightDepth = self.maxDepth(root.right)\n",
    "\n",
    "\t\tprint(leftDepth)\n",
    "\n",
    "\t\t# Choose the larger one (the maximum depth) and add the root to it.\n",
    "\t\tif leftDepth > rightDepth:\n",
    "\t\t\treturn leftDepth + 1\n",
    "\t\telse:\n",
    "\t\t\treturn rightDepth + 1\n",
    "\t\t\n",
    "\n",
    "samples = [\n",
    "\ttree1, # => 3\n",
    "\ttree2 # => 2\n",
    "\t]\n",
    "\n",
    "for sample in samples:\n",
    "\tsolution = Solution()\n",
    "\tdepth = solution.maxDepth(sample)\n",
    "\tprint(depth)\t"
   ]
  }
 ],
 "metadata": {
  "kernelspec": {
   "display_name": "leetcode-wb",
   "language": "python",
   "name": "python3"
  },
  "language_info": {
   "codemirror_mode": {
    "name": "ipython",
    "version": 3
   },
   "file_extension": ".py",
   "mimetype": "text/x-python",
   "name": "python",
   "nbconvert_exporter": "python",
   "pygments_lexer": "ipython3",
   "version": "3.10.10"
  }
 },
 "nbformat": 4,
 "nbformat_minor": 2
}
