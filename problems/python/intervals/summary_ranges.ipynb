{
 "cells": [
  {
   "cell_type": "markdown",
   "metadata": {},
   "source": [
    "# Summary Ranges\n",
    "`Easy` | [Leetcode Link](https://leetcode.com/problems/summary-ranges/)\n",
    "\n",
    "## Description\n",
    "You are given a sorted unique integer array nums.\n",
    "\n",
    "A range `[a,b]` is the set of all integers from a to b (inclusive).\n",
    "\n",
    "Return the smallest sorted list of ranges that cover all the numbers in the array exactly. That is, each element of nums is covered by exactly one of the ranges, and there is no integer x such that x is in one of the ranges but not in nums.\n",
    "\n",
    "Each range `[a,b]` in the list should be output as:\n",
    "\n",
    "- `\"a->b\" if a != b`\n",
    "- `\"a\" if a == b`\n",
    "\n",
    "## Example 1:\n",
    "Input: `nums = [0,1,2,4,5,7]`\\\n",
    "Output: `[\"0->2\",\"4->5\",\"7\"]`\\\n",
    "Explanation: The ranges are:\\\n",
    "[0,2] --> \"0->2\"\\\n",
    "[4,5] --> \"4->5\"\\\n",
    "[7,7] --> \"7\"\n",
    "\n",
    "## Example 2:\n",
    "Input: `nums = [0,2,3,4,6,8,9]`\\\n",
    "Output: `[\"0\",\"2->4\",\"6\",\"8->9\"]`\\\n",
    "Explanation: The ranges are:\\\n",
    "[0,0] --> \"0\"\\\n",
    "[2,4] --> \"2->4\"\\\n",
    "[6,6] --> \"6\"\\\n",
    "[8,9] --> \"8->9\"\n",
    "\n",
    "\n",
    "## Constraints:\n",
    "- `0 <= nums.length <= 20`\n",
    "- `-231 <= nums[i] <= 231 - 1`\n",
    "- All the values of nums are unique.\n",
    "- `nums` is sorted in ascending order."
   ]
  },
  {
   "cell_type": "code",
   "execution_count": null,
   "metadata": {},
   "outputs": [
    {
     "name": "stdout",
     "output_type": "stream",
     "text": [
      "['0->2', '4->5', '7']\n",
      "['0', '2->4', '6', '8->9']\n"
     ]
    }
   ],
   "source": [
    "class Solution(object):\n",
    "\tdef summaryRanges(self, nums):\n",
    "\t\t\"\"\"\n",
    "\t\t:type nums: List[int]\n",
    "\t\t:rtype: List[str]\n",
    "\t\t\"\"\"\n",
    "\t\tnums.sort()\n",
    "\t\tsummary = []\n",
    "\t\tlast_range = None\n",
    "\t\tfor i, n in enumerate(nums):\n",
    "\t\t\tnext_index = min(len(nums)-1, i + 1)\n",
    "\t\t\t# Check to see if the next item is contiguous\n",
    "\t\t\tcontinuity = nums[next_index] == n + 1\n",
    "\t\t\tif continuity:\n",
    "\t\t\t\t# If contiguous, ensure last_range exists and continue\n",
    "\t\t\t\tif not last_range: \n",
    "\t\t\t\t\tlast_range = str(n) + '->'\n",
    "\t\t\telse:\n",
    "\t\t\t\tif last_range: \n",
    "\t\t\t\t\t# If no continuity, but has previous range, let's complete the range\n",
    "\t\t\t\t\tlast_range = f\"{last_range}{str(n)}\"\n",
    "\t\t\t\t\tsummary.append(last_range)\n",
    "\t\t\t\t\tlast_range = None\n",
    "\t\t\t\telse:\n",
    "\t\t\t\t\t# If no continuity and no range, let's append the str number\n",
    "\t\t\t\t\tsummary.append(str(n))\n",
    "\t\t\n",
    "\t\treturn summary\n",
    "\t\t\t\t\t \n",
    "\n",
    "samples = [\n",
    "\t[0,1,2,4,5,7],\n",
    "\t[0,2,3,4,6,8,9]\n",
    "]\n",
    "\n",
    "for sample in samples:\n",
    "\tsolution = Solution()\n",
    "\tresult = solution.summaryRanges(sample)\n",
    "\tprint(result)"
   ]
  }
 ],
 "metadata": {
  "kernelspec": {
   "display_name": "leetcode-wb",
   "language": "python",
   "name": "python3"
  },
  "language_info": {
   "codemirror_mode": {
    "name": "ipython",
    "version": 3
   },
   "file_extension": ".py",
   "mimetype": "text/x-python",
   "name": "python",
   "nbconvert_exporter": "python",
   "pygments_lexer": "ipython3",
   "version": "3.10.10"
  }
 },
 "nbformat": 4,
 "nbformat_minor": 2
}
